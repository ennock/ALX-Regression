{
 "cells": [
  {
   "cell_type": "code",
   "execution_count": 3,
   "id": "c780bc2e",
   "metadata": {},
   "outputs": [
    {
     "name": "stdout",
     "output_type": "stream",
     "text": [
      "Collecting facebook-sdk\n",
      "  Obtaining dependency information for facebook-sdk from https://files.pythonhosted.org/packages/79/d7/4cb0f5930f79205cc45db22e17fa716396d813c3d6b8d5de77783a5fa59a/facebook_sdk-3.1.0-py2.py3-none-any.whl.metadata\n",
      "  Downloading facebook_sdk-3.1.0-py2.py3-none-any.whl.metadata (2.2 kB)\n",
      "Requirement already satisfied: requests in c:\\users\\wwaswa\\anaconda\\software\\lib\\site-packages (from facebook-sdk) (2.31.0)\n",
      "Requirement already satisfied: charset-normalizer<4,>=2 in c:\\users\\wwaswa\\anaconda\\software\\lib\\site-packages (from requests->facebook-sdk) (2.0.4)\n",
      "Requirement already satisfied: idna<4,>=2.5 in c:\\users\\wwaswa\\anaconda\\software\\lib\\site-packages (from requests->facebook-sdk) (3.4)\n",
      "Requirement already satisfied: urllib3<3,>=1.21.1 in c:\\users\\wwaswa\\anaconda\\software\\lib\\site-packages (from requests->facebook-sdk) (1.26.18)\n",
      "Requirement already satisfied: certifi>=2017.4.17 in c:\\users\\wwaswa\\anaconda\\software\\lib\\site-packages (from requests->facebook-sdk) (2023.7.22)\n",
      "Downloading facebook_sdk-3.1.0-py2.py3-none-any.whl (7.5 kB)\n",
      "Installing collected packages: facebook-sdk\n",
      "Successfully installed facebook-sdk-3.1.0\n",
      "Note: you may need to restart the kernel to use updated packages.\n"
     ]
    }
   ],
   "source": [
    "pip install facebook-sdk\n"
   ]
  },
  {
   "cell_type": "code",
   "execution_count": 1,
   "id": "8bd59fad",
   "metadata": {},
   "outputs": [],
   "source": [
    "import facebook\n",
    "import time\n"
   ]
  },
  {
   "cell_type": "code",
   "execution_count": 6,
   "id": "689e0b9e",
   "metadata": {},
   "outputs": [],
   "source": [
    "graph = facebook.GraphAPI(access_token='EAANidtTXJKEBO55medbLKP3rgQi2AUiWz3aQBW1eGH5cPqZATYSUCEYgCd3Q0M6yzZCZAzWP6T2vdeSqsrCHzsCLbYvnUYp9mqPQuTSkXnZBcZAGw9S2YbIynSaQzmUShDe1ADo09xC7boZB1V9DD0Ol6gnOZBJdx8wsKM7bk4rj99xxCdruMzr3pJQXvWlkNAjy8ZBUSCVBMFAgH2cFtJjIrRtJmT8OJNLQJdADBAkxzfHJJoBkNMtDEMsj7zpbtwZDZD', version='2.11')\n",
    "\n"
   ]
  },
  {
   "cell_type": "code",
   "execution_count": 7,
   "id": "0cc3d5ef",
   "metadata": {},
   "outputs": [],
   "source": [
    "def check_for_new_posts(group_id):\n",
    "    # Retrieve posts from the group's feed\n",
    "    posts = graph.get_connections(id=group_id, connection_name='feed')\n",
    "\n",
    "    # Process new posts\n",
    "    for post in posts['data']:\n",
    "        print(post['message'])  # Print the message of each post\n"
   ]
  },
  {
   "cell_type": "code",
   "execution_count": 8,
   "id": "c68da597",
   "metadata": {},
   "outputs": [
    {
     "ename": "KeyError",
     "evalue": "'data'",
     "output_type": "error",
     "traceback": [
      "\u001b[1;31m---------------------------------------------------------------------------\u001b[0m",
      "\u001b[1;31mKeyError\u001b[0m                                  Traceback (most recent call last)",
      "Cell \u001b[1;32mIn[8], line 10\u001b[0m\n\u001b[0;32m      7\u001b[0m         time\u001b[38;5;241m.\u001b[39msleep(\u001b[38;5;241m60\u001b[39m)  \u001b[38;5;66;03m# Check for new posts every 60 seconds\u001b[39;00m\n\u001b[0;32m      9\u001b[0m \u001b[38;5;28;01mif\u001b[39;00m \u001b[38;5;18m__name__\u001b[39m \u001b[38;5;241m==\u001b[39m \u001b[38;5;124m'\u001b[39m\u001b[38;5;124m__main__\u001b[39m\u001b[38;5;124m'\u001b[39m:\n\u001b[1;32m---> 10\u001b[0m     main()\n",
      "Cell \u001b[1;32mIn[8], line 6\u001b[0m, in \u001b[0;36mmain\u001b[1;34m()\u001b[0m\n\u001b[0;32m      3\u001b[0m group_id \u001b[38;5;241m=\u001b[39m \u001b[38;5;124m'\u001b[39m\u001b[38;5;124mhttps://www.facebook.com/groups/academiaresearchwriter\u001b[39m\u001b[38;5;124m'\u001b[39m\n\u001b[0;32m      5\u001b[0m \u001b[38;5;28;01mwhile\u001b[39;00m \u001b[38;5;28;01mTrue\u001b[39;00m:\n\u001b[1;32m----> 6\u001b[0m     check_for_new_posts(group_id)\n\u001b[0;32m      7\u001b[0m     time\u001b[38;5;241m.\u001b[39msleep(\u001b[38;5;241m60\u001b[39m)\n",
      "Cell \u001b[1;32mIn[7], line 6\u001b[0m, in \u001b[0;36mcheck_for_new_posts\u001b[1;34m(group_id)\u001b[0m\n\u001b[0;32m      3\u001b[0m posts \u001b[38;5;241m=\u001b[39m graph\u001b[38;5;241m.\u001b[39mget_connections(\u001b[38;5;28mid\u001b[39m\u001b[38;5;241m=\u001b[39mgroup_id, connection_name\u001b[38;5;241m=\u001b[39m\u001b[38;5;124m'\u001b[39m\u001b[38;5;124mfeed\u001b[39m\u001b[38;5;124m'\u001b[39m)\n\u001b[0;32m      5\u001b[0m \u001b[38;5;66;03m# Process new posts\u001b[39;00m\n\u001b[1;32m----> 6\u001b[0m \u001b[38;5;28;01mfor\u001b[39;00m post \u001b[38;5;129;01min\u001b[39;00m posts[\u001b[38;5;124m'\u001b[39m\u001b[38;5;124mdata\u001b[39m\u001b[38;5;124m'\u001b[39m]:\n\u001b[0;32m      7\u001b[0m     \u001b[38;5;28mprint\u001b[39m(post[\u001b[38;5;124m'\u001b[39m\u001b[38;5;124mmessage\u001b[39m\u001b[38;5;124m'\u001b[39m])\n",
      "\u001b[1;31mKeyError\u001b[0m: 'data'"
     ]
    }
   ],
   "source": [
    "def main():\n",
    "    # ID of the Facebook group you want to monitor\n",
    "    group_id = 'https://www.facebook.com/groups/academiaresearchwriter'\n",
    "\n",
    "    while True:\n",
    "        check_for_new_posts(group_id)\n",
    "        time.sleep(60)  # Check for new posts every 60 seconds\n",
    "\n",
    "if __name__ == '__main__':\n",
    "    main()\n"
   ]
  },
  {
   "cell_type": "code",
   "execution_count": null,
   "id": "cae16eae",
   "metadata": {},
   "outputs": [],
   "source": []
  }
 ],
 "metadata": {
  "kernelspec": {
   "display_name": "Python 3 (ipykernel)",
   "language": "python",
   "name": "python3"
  },
  "language_info": {
   "codemirror_mode": {
    "name": "ipython",
    "version": 3
   },
   "file_extension": ".py",
   "mimetype": "text/x-python",
   "name": "python",
   "nbconvert_exporter": "python",
   "pygments_lexer": "ipython3",
   "version": "3.11.5"
  }
 },
 "nbformat": 4,
 "nbformat_minor": 5
}
