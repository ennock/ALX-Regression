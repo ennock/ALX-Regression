{
 "cells": [
  {
   "cell_type": "code",
   "execution_count": 4,
   "id": "7a4532c2",
   "metadata": {},
   "outputs": [],
   "source": [
    "##import the libraries\n",
    "import pandas as pd"
   ]
  },
  {
   "cell_type": "code",
   "execution_count": 5,
   "id": "4d8b2753",
   "metadata": {},
   "outputs": [],
   "source": [
    "#import the datasets\n",
    "df1 = pd.read_csv(\"C:/Users/wwaswa/Desktop/Python Data/cardio_alco.csv\")\n",
    "df2 = pd.read_csv(\"C:/Users/wwaswa/Desktop/Python Data/cardio_base.csv\")\n",
    "df3 = pd.read_csv(\"C:/Users/wwaswa/Desktop/Python Data/covid_data.csv\")"
   ]
  },
  {
   "cell_type": "code",
   "execution_count": 6,
   "id": "a4b8e685",
   "metadata": {},
   "outputs": [
    {
     "data": {
      "text/html": [
       "<div>\n",
       "<style scoped>\n",
       "    .dataframe tbody tr th:only-of-type {\n",
       "        vertical-align: middle;\n",
       "    }\n",
       "\n",
       "    .dataframe tbody tr th {\n",
       "        vertical-align: top;\n",
       "    }\n",
       "\n",
       "    .dataframe thead th {\n",
       "        text-align: right;\n",
       "    }\n",
       "</style>\n",
       "<table border=\"1\" class=\"dataframe\">\n",
       "  <thead>\n",
       "    <tr style=\"text-align: right;\">\n",
       "      <th></th>\n",
       "      <th>id;alco</th>\n",
       "    </tr>\n",
       "  </thead>\n",
       "  <tbody>\n",
       "    <tr>\n",
       "      <th>0</th>\n",
       "      <td>44;0</td>\n",
       "    </tr>\n",
       "    <tr>\n",
       "      <th>1</th>\n",
       "      <td>45;0</td>\n",
       "    </tr>\n",
       "    <tr>\n",
       "      <th>2</th>\n",
       "      <td>46;0</td>\n",
       "    </tr>\n",
       "    <tr>\n",
       "      <th>3</th>\n",
       "      <td>47;0</td>\n",
       "    </tr>\n",
       "    <tr>\n",
       "      <th>4</th>\n",
       "      <td>49;0</td>\n",
       "    </tr>\n",
       "  </tbody>\n",
       "</table>\n",
       "</div>"
      ],
      "text/plain": [
       "  id;alco\n",
       "0    44;0\n",
       "1    45;0\n",
       "2    46;0\n",
       "3    47;0\n",
       "4    49;0"
      ]
     },
     "execution_count": 6,
     "metadata": {},
     "output_type": "execute_result"
    }
   ],
   "source": [
    "df1.head()"
   ]
  },
  {
   "cell_type": "code",
   "execution_count": 7,
   "id": "a2b06926",
   "metadata": {},
   "outputs": [
    {
     "data": {
      "text/html": [
       "<div>\n",
       "<style scoped>\n",
       "    .dataframe tbody tr th:only-of-type {\n",
       "        vertical-align: middle;\n",
       "    }\n",
       "\n",
       "    .dataframe tbody tr th {\n",
       "        vertical-align: top;\n",
       "    }\n",
       "\n",
       "    .dataframe thead th {\n",
       "        text-align: right;\n",
       "    }\n",
       "</style>\n",
       "<table border=\"1\" class=\"dataframe\">\n",
       "  <thead>\n",
       "    <tr style=\"text-align: right;\">\n",
       "      <th></th>\n",
       "      <th>id</th>\n",
       "      <th>age</th>\n",
       "      <th>gender</th>\n",
       "      <th>height</th>\n",
       "      <th>weight</th>\n",
       "      <th>ap_hi</th>\n",
       "      <th>ap_lo</th>\n",
       "      <th>cholesterol</th>\n",
       "      <th>smoke</th>\n",
       "    </tr>\n",
       "  </thead>\n",
       "  <tbody>\n",
       "    <tr>\n",
       "      <th>0</th>\n",
       "      <td>0</td>\n",
       "      <td>18393</td>\n",
       "      <td>2</td>\n",
       "      <td>168</td>\n",
       "      <td>62.0</td>\n",
       "      <td>110</td>\n",
       "      <td>80</td>\n",
       "      <td>1</td>\n",
       "      <td>0</td>\n",
       "    </tr>\n",
       "    <tr>\n",
       "      <th>1</th>\n",
       "      <td>1</td>\n",
       "      <td>20228</td>\n",
       "      <td>1</td>\n",
       "      <td>156</td>\n",
       "      <td>85.0</td>\n",
       "      <td>140</td>\n",
       "      <td>90</td>\n",
       "      <td>3</td>\n",
       "      <td>0</td>\n",
       "    </tr>\n",
       "    <tr>\n",
       "      <th>2</th>\n",
       "      <td>2</td>\n",
       "      <td>18857</td>\n",
       "      <td>1</td>\n",
       "      <td>165</td>\n",
       "      <td>64.0</td>\n",
       "      <td>130</td>\n",
       "      <td>70</td>\n",
       "      <td>3</td>\n",
       "      <td>0</td>\n",
       "    </tr>\n",
       "    <tr>\n",
       "      <th>3</th>\n",
       "      <td>3</td>\n",
       "      <td>17623</td>\n",
       "      <td>2</td>\n",
       "      <td>169</td>\n",
       "      <td>82.0</td>\n",
       "      <td>150</td>\n",
       "      <td>100</td>\n",
       "      <td>1</td>\n",
       "      <td>0</td>\n",
       "    </tr>\n",
       "    <tr>\n",
       "      <th>4</th>\n",
       "      <td>4</td>\n",
       "      <td>17474</td>\n",
       "      <td>1</td>\n",
       "      <td>156</td>\n",
       "      <td>56.0</td>\n",
       "      <td>100</td>\n",
       "      <td>60</td>\n",
       "      <td>1</td>\n",
       "      <td>0</td>\n",
       "    </tr>\n",
       "  </tbody>\n",
       "</table>\n",
       "</div>"
      ],
      "text/plain": [
       "   id    age  gender  height  weight  ap_hi  ap_lo  cholesterol  smoke\n",
       "0   0  18393       2     168    62.0    110     80            1      0\n",
       "1   1  20228       1     156    85.0    140     90            3      0\n",
       "2   2  18857       1     165    64.0    130     70            3      0\n",
       "3   3  17623       2     169    82.0    150    100            1      0\n",
       "4   4  17474       1     156    56.0    100     60            1      0"
      ]
     },
     "execution_count": 7,
     "metadata": {},
     "output_type": "execute_result"
    }
   ],
   "source": [
    "df2.head()"
   ]
  },
  {
   "cell_type": "code",
   "execution_count": 11,
   "id": "0fcd4f22",
   "metadata": {},
   "outputs": [
    {
     "data": {
      "text/plain": [
       "Index(['id', 'age', 'gender', 'height', 'weight', 'ap_hi', 'ap_lo',\n",
       "       'cholesterol', 'smoke'],\n",
       "      dtype='object')"
      ]
     },
     "execution_count": 11,
     "metadata": {},
     "output_type": "execute_result"
    }
   ],
   "source": [
    "df2.columns"
   ]
  },
  {
   "cell_type": "code",
   "execution_count": 12,
   "id": "d63beda8",
   "metadata": {},
   "outputs": [
    {
     "name": "stdout",
     "output_type": "stream",
     "text": [
      "People over 50 have higher cholesterol than the rest.\n"
     ]
    }
   ],
   "source": [
    "#import pandas as pd\n",
    "\n",
    "# Load the dataset\n",
    "#df = pd.read_csv('cadio_base.csv')\n",
    "\n",
    "# Filter individuals over 50 and under 50\n",
    "over_50 = df2[df2['weight'] > 50]\n",
    "under_50 = df2[df2['weight'] <= 50]\n",
    "\n",
    "# Calculate average cholesterol levels for each group\n",
    "avg_cholesterol_over_50 = over_50['cholesterol'].mean()\n",
    "avg_cholesterol_under_50 = under_50['cholesterol'].mean()\n",
    "\n",
    "# Compare the average cholesterol levels\n",
    "if avg_cholesterol_over_50 > avg_cholesterol_under_50:\n",
    "    print(\"People over 50 have higher cholesterol than the rest.\")\n",
    "elif avg_cholesterol_over_50 < avg_cholesterol_under_50:\n",
    "    print(\"People over 50 have lower cholesterol than the rest.\")\n",
    "else:\n",
    "    print(\"There is no significant difference in cholesterol levels between people over 50 and the rest.\")\n"
   ]
  },
  {
   "cell_type": "code",
   "execution_count": 14,
   "id": "40ddb827",
   "metadata": {},
   "outputs": [
    {
     "name": "stdout",
     "output_type": "stream",
     "text": [
      "1.3688404950957496\n"
     ]
    }
   ],
   "source": [
    "over_50 = df2[df2['weight'] > 50]\n",
    "avg_cholesterol_over_50 = over_50['cholesterol'].mean()\n",
    "print(avg_cholesterol_over_50 )"
   ]
  },
  {
   "cell_type": "code",
   "execution_count": 15,
   "id": "9425327f",
   "metadata": {},
   "outputs": [
    {
     "name": "stdout",
     "output_type": "stream",
     "text": [
      "1.2762096774193548\n"
     ]
    }
   ],
   "source": [
    "under_50 = df2[df2['weight'] <= 50]\n",
    "avg_cholesterol_under_50 = under_50['cholesterol'].mean()\n",
    "print(avg_cholesterol_under_50)"
   ]
  },
  {
   "cell_type": "code",
   "execution_count": 16,
   "id": "ee57c2fa",
   "metadata": {},
   "outputs": [
    {
     "name": "stdout",
     "output_type": "stream",
     "text": [
      "0.0926308176763948\n"
     ]
    }
   ],
   "source": [
    "over50 = 1.3688404950957496\n",
    "below50= 1.2762096774193548\n",
    "diff = over50 - below50\n",
    "print(diff)"
   ]
  },
  {
   "cell_type": "code",
   "execution_count": 19,
   "id": "95c69373",
   "metadata": {},
   "outputs": [
    {
     "name": "stdout",
     "output_type": "stream",
     "text": [
      "Women are more likely to be smokers than men.\n"
     ]
    }
   ],
   "source": [
    "\n",
    "\n",
    "# Filter male and female individuals\n",
    "male = df2[df2['gender'] == 1]  # Assuming gender 1 represents male\n",
    "female = df2[df2['gender'] == 2]  # Assuming gender 2 represents female\n",
    "\n",
    "# Calculate the percentage of smokers among males and females\n",
    "male_smokers_percentage = (male['smoke'].mean()) * 100\n",
    "female_smokers_percentage = (female['smoke'].mean()) * 100\n",
    "\n",
    "# Compare the percentages\n",
    "if male_smokers_percentage > female_smokers_percentage:\n",
    "    print(\"Men are more likely to be smokers than women.\")\n",
    "elif male_smokers_percentage < female_smokers_percentage:\n",
    "    print(\"Women are more likely to be smokers than men.\")\n",
    "else:\n",
    "    print(\"There is no significant difference in smoking prevalence between men and women.\")\n"
   ]
  },
  {
   "cell_type": "code",
   "execution_count": 20,
   "id": "38909bde",
   "metadata": {},
   "outputs": [
    {
     "name": "stdout",
     "output_type": "stream",
     "text": [
      "21.88802615447487\n"
     ]
    }
   ],
   "source": [
    "female = df2[df2['gender'] == 2]\n",
    "female_smokers_percentage = (female['smoke'].mean()) * 100\n",
    "print(female_smokers_percentage)"
   ]
  },
  {
   "cell_type": "code",
   "execution_count": 21,
   "id": "db2a31be",
   "metadata": {},
   "outputs": [
    {
     "name": "stdout",
     "output_type": "stream",
     "text": [
      "1.7856358444981333\n"
     ]
    }
   ],
   "source": [
    "male = df2[df2['gender'] == 1] \n",
    "male_smokers_percentage = (male['smoke'].mean()) * 100\n",
    "print(male_smokers_percentage)"
   ]
  },
  {
   "cell_type": "code",
   "execution_count": 22,
   "id": "4b5dd450",
   "metadata": {},
   "outputs": [
    {
     "name": "stdout",
     "output_type": "stream",
     "text": [
      "The height of the tallest 1% of people: 250\n"
     ]
    }
   ],
   "source": [
    "\n",
    "\n",
    "# Sort the dataset by height in descending order\n",
    "sorted_df = df2.sort_values(by='height', ascending=False)\n",
    "\n",
    "# Calculate the index position for the top 1% of the dataset\n",
    "top_1_percent_index = int(0.01 * len(sorted_df))\n",
    "\n",
    "# Extract the height values for the top 1% of people\n",
    "tallest_1_percent = sorted_df.head(top_1_percent_index)['height']\n",
    "\n",
    "# Print the tallest height in the top 1%\n",
    "print(\"The height of the tallest 1% of people:\", tallest_1_percent.max())\n"
   ]
  },
  {
   "cell_type": "code",
   "execution_count": 23,
   "id": "8a2e783d",
   "metadata": {},
   "outputs": [
    {
     "ename": "AttributeError",
     "evalue": "module 'pandas' has no attribute 'np'",
     "output_type": "error",
     "traceback": [
      "\u001b[1;31m---------------------------------------------------------------------------\u001b[0m",
      "\u001b[1;31mAttributeError\u001b[0m                            Traceback (most recent call last)",
      "Cell \u001b[1;32mIn[23], line 5\u001b[0m\n\u001b[0;32m      2\u001b[0m spearman_corr \u001b[38;5;241m=\u001b[39m df2\u001b[38;5;241m.\u001b[39mcorr(method\u001b[38;5;241m=\u001b[39m\u001b[38;5;124m'\u001b[39m\u001b[38;5;124mspearman\u001b[39m\u001b[38;5;124m'\u001b[39m)\n\u001b[0;32m      4\u001b[0m \u001b[38;5;66;03m# Extract the upper triangle of the correlation matrix (excluding diagonal)\u001b[39;00m\n\u001b[1;32m----> 5\u001b[0m upper_triangle \u001b[38;5;241m=\u001b[39m spearman_corr\u001b[38;5;241m.\u001b[39mwhere(\u001b[38;5;241m~\u001b[39mpd\u001b[38;5;241m.\u001b[39mnp\u001b[38;5;241m.\u001b[39mtril(pd\u001b[38;5;241m.\u001b[39mnp\u001b[38;5;241m.\u001b[39mones(spearman_corr\u001b[38;5;241m.\u001b[39mshape))\u001b[38;5;241m.\u001b[39mastype(pd\u001b[38;5;241m.\u001b[39mnp\u001b[38;5;241m.\u001b[39mbool))\n\u001b[0;32m      7\u001b[0m \u001b[38;5;66;03m# Find the pair with the highest correlation coefficient\u001b[39;00m\n\u001b[0;32m      8\u001b[0m highest_corr_pair \u001b[38;5;241m=\u001b[39m upper_triangle\u001b[38;5;241m.\u001b[39mstack()\u001b[38;5;241m.\u001b[39midxmax()\n",
      "\u001b[1;31mAttributeError\u001b[0m: module 'pandas' has no attribute 'np'"
     ]
    }
   ],
   "source": [
    "\n",
    "\n",
    "# Calculate the Spearman correlation matrix\n",
    "spearman_corr = df2.corr(method='spearman')\n",
    "\n",
    "# Extract the upper triangle of the correlation matrix (excluding diagonal)\n",
    "upper_triangle = spearman_corr.where(~pd.np.tril(pd.np.ones(spearman_corr.shape)).astype(pd.np.bool))\n",
    "\n",
    "# Find the pair with the highest correlation coefficient\n",
    "highest_corr_pair = upper_triangle.stack().idxmax()\n",
    "\n",
    "# Print the pair with the highest correlation coefficient\n",
    "print(\"The pair with the highest Spearman rank correlation:\", highest_corr_pair)\n"
   ]
  },
  {
   "cell_type": "code",
   "execution_count": 26,
   "id": "3c9f3dd6",
   "metadata": {},
   "outputs": [
    {
     "ename": "AttributeError",
     "evalue": "module 'pandas' has no attribute 'np'",
     "output_type": "error",
     "traceback": [
      "\u001b[1;31m---------------------------------------------------------------------------\u001b[0m",
      "\u001b[1;31mAttributeError\u001b[0m                            Traceback (most recent call last)",
      "Cell \u001b[1;32mIn[26], line 9\u001b[0m\n\u001b[0;32m      6\u001b[0m spearman_corr \u001b[38;5;241m=\u001b[39m df2\u001b[38;5;241m.\u001b[39mcorr(method\u001b[38;5;241m=\u001b[39m\u001b[38;5;124m'\u001b[39m\u001b[38;5;124mspearman\u001b[39m\u001b[38;5;124m'\u001b[39m)\n\u001b[0;32m      8\u001b[0m \u001b[38;5;66;03m# Extract the upper triangle of the correlation matrix (excluding diagonal)\u001b[39;00m\n\u001b[1;32m----> 9\u001b[0m upper_triangle \u001b[38;5;241m=\u001b[39m spearman_corr\u001b[38;5;241m.\u001b[39mwhere(\u001b[38;5;241m~\u001b[39mpd\u001b[38;5;241m.\u001b[39mnp\u001b[38;5;241m.\u001b[39mtril(pd\u001b[38;5;241m.\u001b[39mnp\u001b[38;5;241m.\u001b[39mones(spearman_corr\u001b[38;5;241m.\u001b[39mshape))\u001b[38;5;241m.\u001b[39mastype(pd\u001b[38;5;241m.\u001b[39mnp\u001b[38;5;241m.\u001b[39mbool))\n\u001b[0;32m     11\u001b[0m \u001b[38;5;66;03m# Find the pair with the highest correlation coefficient\u001b[39;00m\n\u001b[0;32m     12\u001b[0m highest_corr_pair \u001b[38;5;241m=\u001b[39m upper_triangle\u001b[38;5;241m.\u001b[39mstack()\u001b[38;5;241m.\u001b[39midxmax()\n",
      "\u001b[1;31mAttributeError\u001b[0m: module 'pandas' has no attribute 'np'"
     ]
    }
   ],
   "source": [
    "import pandas as pd\n",
    "\n",
    "import numpy as np\n",
    "\n",
    "# Calculate the Spearman correlation matrix\n",
    "spearman_corr = df2.corr(method='spearman')\n",
    "\n",
    "# Extract the upper triangle of the correlation matrix (excluding diagonal)\n",
    "upper_triangle = spearman_corr.where(~pd.np.tril(pd.np.ones(spearman_corr.shape)).astype(pd.np.bool))\n",
    "\n",
    "# Find the pair with the highest correlation coefficient\n",
    "highest_corr_pair = upper_triangle.stack().idxmax()\n",
    "\n",
    "# Print the pair with the highest correlation coefficient\n",
    "print(\"The pair with the highest Spearman rank correlation:\", highest_corr_pair)\n"
   ]
  },
  {
   "cell_type": "code",
   "execution_count": 27,
   "id": "b48bf447",
   "metadata": {},
   "outputs": [
    {
     "name": "stdout",
     "output_type": "stream",
     "text": [
      "ap_hi ap_lo\n"
     ]
    }
   ],
   "source": [
    "import pandas as pd\n",
    "import numpy as np\n",
    "\n",
    "\n",
    "\n",
    "# Calculate Spearman correlation matrix\n",
    "spearman_corr = df2.corr(method='spearman')\n",
    "\n",
    "# Extract the upper triangle of the correlation matrix (excluding diagonal)\n",
    "upper_triangle = spearman_corr.where(~np.tril(np.ones(spearman_corr.shape)).astype(bool))\n",
    "\n",
    "# Find the pair with the highest correlation coefficient\n",
    "highest_corr_pair = upper_triangle.stack().idxmax()\n",
    "\n",
    "# Print the pair with the highest correlation coefficient\n",
    "print(highest_corr_pair[0], highest_corr_pair[1])\n"
   ]
  },
  {
   "cell_type": "code",
   "execution_count": 28,
   "id": "3deb8ae7",
   "metadata": {},
   "outputs": [
    {
     "name": "stdout",
     "output_type": "stream",
     "text": [
      "Percentage of people more than 2 standard deviations away from the average height: 3.3357142857142854\n"
     ]
    }
   ],
   "source": [
    "\n",
    "\n",
    "# Calculate the average height and standard deviation\n",
    "mean_height = df2['height'].mean()\n",
    "std_dev = df2['height'].std()\n",
    "\n",
    "# Calculate the lower and upper bounds\n",
    "lower_bound = mean_height - 2 * std_dev\n",
    "upper_bound = mean_height + 2 * std_dev\n",
    "\n",
    "# Count the number of people whose height is more than 2 standard deviations away from the mean\n",
    "num_outliers = df2[(df2['height'] < lower_bound) | (df2['height'] > upper_bound)].shape[0]\n",
    "\n",
    "# Calculate the total number of people\n",
    "total_people = df2.shape[0]\n",
    "\n",
    "# Calculate the percentage of people who are outliers\n",
    "percentage_outliers = (num_outliers / total_people) * 100\n",
    "\n",
    "print(\"Percentage of people more than 2 standard deviations away from the average height:\", percentage_outliers)\n"
   ]
  },
  {
   "cell_type": "code",
   "execution_count": 29,
   "id": "b946c4fd",
   "metadata": {},
   "outputs": [
    {
     "name": "stdout",
     "output_type": "stream",
     "text": [
      "Reject the null hypothesis. Smokers weigh less than non-smokers (with 95% confidence)\n"
     ]
    }
   ],
   "source": [
    "import pandas as pd\n",
    "from scipy.stats import ttest_ind\n",
    "\n",
    "\n",
    "\n",
    "# Separate data for smokers and non-smokers\n",
    "smokers = df2[df2['smoke'] == 1]['weight']\n",
    "non_smokers = df2[df2['smoke'] == 0]['weight']\n",
    "\n",
    "# Perform t-test\n",
    "t_stat, p_value = ttest_ind(smokers, non_smokers)\n",
    "\n",
    "# Compare p-value with significance level\n",
    "alpha = 0.05\n",
    "if p_value < alpha:\n",
    "    print(\"Reject the null hypothesis. Smokers weigh less than non-smokers (with 95% confidence)\")\n",
    "else:\n",
    "    print(\"Fail to reject the null hypothesis. There is no significant difference in weight between smokers and non-smokers.\")\n"
   ]
  },
  {
   "cell_type": "code",
   "execution_count": 30,
   "id": "320d11cd",
   "metadata": {},
   "outputs": [
    {
     "data": {
      "text/html": [
       "<div>\n",
       "<style scoped>\n",
       "    .dataframe tbody tr th:only-of-type {\n",
       "        vertical-align: middle;\n",
       "    }\n",
       "\n",
       "    .dataframe tbody tr th {\n",
       "        vertical-align: top;\n",
       "    }\n",
       "\n",
       "    .dataframe thead th {\n",
       "        text-align: right;\n",
       "    }\n",
       "</style>\n",
       "<table border=\"1\" class=\"dataframe\">\n",
       "  <thead>\n",
       "    <tr style=\"text-align: right;\">\n",
       "      <th></th>\n",
       "      <th>location</th>\n",
       "      <th>date</th>\n",
       "      <th>new_cases</th>\n",
       "      <th>new_deaths</th>\n",
       "      <th>population</th>\n",
       "      <th>aged_65_older_percent</th>\n",
       "      <th>gdp_per_capita</th>\n",
       "      <th>hospital_beds_per_thousand</th>\n",
       "    </tr>\n",
       "  </thead>\n",
       "  <tbody>\n",
       "    <tr>\n",
       "      <th>0</th>\n",
       "      <td>Afghanistan</td>\n",
       "      <td>2019-12-31</td>\n",
       "      <td>0</td>\n",
       "      <td>0</td>\n",
       "      <td>38928341.0</td>\n",
       "      <td>2.581</td>\n",
       "      <td>1803.987</td>\n",
       "      <td>0.5</td>\n",
       "    </tr>\n",
       "    <tr>\n",
       "      <th>1</th>\n",
       "      <td>Afghanistan</td>\n",
       "      <td>2020-01-01</td>\n",
       "      <td>0</td>\n",
       "      <td>0</td>\n",
       "      <td>38928341.0</td>\n",
       "      <td>2.581</td>\n",
       "      <td>1803.987</td>\n",
       "      <td>0.5</td>\n",
       "    </tr>\n",
       "    <tr>\n",
       "      <th>2</th>\n",
       "      <td>Afghanistan</td>\n",
       "      <td>2020-01-02</td>\n",
       "      <td>0</td>\n",
       "      <td>0</td>\n",
       "      <td>38928341.0</td>\n",
       "      <td>2.581</td>\n",
       "      <td>1803.987</td>\n",
       "      <td>0.5</td>\n",
       "    </tr>\n",
       "    <tr>\n",
       "      <th>3</th>\n",
       "      <td>Afghanistan</td>\n",
       "      <td>2020-01-03</td>\n",
       "      <td>0</td>\n",
       "      <td>0</td>\n",
       "      <td>38928341.0</td>\n",
       "      <td>2.581</td>\n",
       "      <td>1803.987</td>\n",
       "      <td>0.5</td>\n",
       "    </tr>\n",
       "    <tr>\n",
       "      <th>4</th>\n",
       "      <td>Afghanistan</td>\n",
       "      <td>2020-01-04</td>\n",
       "      <td>0</td>\n",
       "      <td>0</td>\n",
       "      <td>38928341.0</td>\n",
       "      <td>2.581</td>\n",
       "      <td>1803.987</td>\n",
       "      <td>0.5</td>\n",
       "    </tr>\n",
       "  </tbody>\n",
       "</table>\n",
       "</div>"
      ],
      "text/plain": [
       "      location        date  new_cases  new_deaths  population  \\\n",
       "0  Afghanistan  2019-12-31          0           0  38928341.0   \n",
       "1  Afghanistan  2020-01-01          0           0  38928341.0   \n",
       "2  Afghanistan  2020-01-02          0           0  38928341.0   \n",
       "3  Afghanistan  2020-01-03          0           0  38928341.0   \n",
       "4  Afghanistan  2020-01-04          0           0  38928341.0   \n",
       "\n",
       "   aged_65_older_percent  gdp_per_capita  hospital_beds_per_thousand  \n",
       "0                  2.581        1803.987                         0.5  \n",
       "1                  2.581        1803.987                         0.5  \n",
       "2                  2.581        1803.987                         0.5  \n",
       "3                  2.581        1803.987                         0.5  \n",
       "4                  2.581        1803.987                         0.5  "
      ]
     },
     "execution_count": 30,
     "metadata": {},
     "output_type": "execute_result"
    }
   ],
   "source": [
    "df3.head()"
   ]
  },
  {
   "cell_type": "code",
   "execution_count": 31,
   "id": "9096bca0",
   "metadata": {},
   "outputs": [
    {
     "data": {
      "text/plain": [
       "Index(['location', 'date', 'new_cases', 'new_deaths', 'population',\n",
       "       'aged_65_older_percent', 'gdp_per_capita',\n",
       "       'hospital_beds_per_thousand'],\n",
       "      dtype='object')"
      ]
     },
     "execution_count": 31,
     "metadata": {},
     "output_type": "execute_result"
    }
   ],
   "source": [
    "df3.columns"
   ]
  },
  {
   "cell_type": "code",
   "execution_count": 32,
   "id": "da9297ba",
   "metadata": {},
   "outputs": [],
   "source": [
    "##dataset3"
   ]
  },
  {
   "cell_type": "code",
   "execution_count": 33,
   "id": "9b8ff1e3",
   "metadata": {},
   "outputs": [
    {
     "name": "stderr",
     "output_type": "stream",
     "text": [
      "C:\\Users\\wwaswa\\AppData\\Local\\Temp\\ipykernel_2984\\1817288870.py:6: SettingWithCopyWarning: \n",
      "A value is trying to be set on a copy of a slice from a DataFrame.\n",
      "Try using .loc[row_indexer,col_indexer] = value instead\n",
      "\n",
      "See the caveats in the documentation: https://pandas.pydata.org/pandas-docs/stable/user_guide/indexing.html#returning-a-view-versus-a-copy\n",
      "  italy_data['daily_cases'] = italy_data['new_cases'].diff().fillna(0)\n",
      "C:\\Users\\wwaswa\\AppData\\Local\\Temp\\ipykernel_2984\\1817288870.py:7: SettingWithCopyWarning: \n",
      "A value is trying to be set on a copy of a slice from a DataFrame.\n",
      "Try using .loc[row_indexer,col_indexer] = value instead\n",
      "\n",
      "See the caveats in the documentation: https://pandas.pydata.org/pandas-docs/stable/user_guide/indexing.html#returning-a-view-versus-a-copy\n",
      "  germany_data['daily_cases'] = germany_data['new_cases'].diff().fillna(0)\n"
     ]
    },
    {
     "ename": "IndexError",
     "evalue": "index 0 is out of bounds for axis 0 with size 0",
     "output_type": "error",
     "traceback": [
      "\u001b[1;31m---------------------------------------------------------------------------\u001b[0m",
      "\u001b[1;31mIndexError\u001b[0m                                Traceback (most recent call last)",
      "Cell \u001b[1;32mIn[33], line 13\u001b[0m\n\u001b[0;32m     10\u001b[0m difference \u001b[38;5;241m=\u001b[39m italy_data[\u001b[38;5;124m'\u001b[39m\u001b[38;5;124mdaily_cases\u001b[39m\u001b[38;5;124m'\u001b[39m]\u001b[38;5;241m.\u001b[39mcumsum() \u001b[38;5;241m-\u001b[39m germany_data[\u001b[38;5;124m'\u001b[39m\u001b[38;5;124mdaily_cases\u001b[39m\u001b[38;5;124m'\u001b[39m]\u001b[38;5;241m.\u001b[39mcumsum()\n\u001b[0;32m     12\u001b[0m \u001b[38;5;66;03m# Find the first day where the difference becomes more than 10,000\u001b[39;00m\n\u001b[1;32m---> 13\u001b[0m first_day \u001b[38;5;241m=\u001b[39m difference[difference \u001b[38;5;241m>\u001b[39m \u001b[38;5;241m10000\u001b[39m]\u001b[38;5;241m.\u001b[39mindex[\u001b[38;5;241m0\u001b[39m]\n\u001b[0;32m     15\u001b[0m \u001b[38;5;28mprint\u001b[39m(\u001b[38;5;124m\"\u001b[39m\u001b[38;5;124mThe difference in total confirmed cases between Italy and Germany became more than 10,000 on:\u001b[39m\u001b[38;5;124m\"\u001b[39m, first_day)\n",
      "File \u001b[1;32m~\\Anaconda\\Software\\Lib\\site-packages\\pandas\\core\\indexes\\base.py:5175\u001b[0m, in \u001b[0;36mIndex.__getitem__\u001b[1;34m(self, key)\u001b[0m\n\u001b[0;32m   5172\u001b[0m \u001b[38;5;28;01mif\u001b[39;00m is_integer(key) \u001b[38;5;129;01mor\u001b[39;00m is_float(key):\n\u001b[0;32m   5173\u001b[0m     \u001b[38;5;66;03m# GH#44051 exclude bool, which would return a 2d ndarray\u001b[39;00m\n\u001b[0;32m   5174\u001b[0m     key \u001b[38;5;241m=\u001b[39m com\u001b[38;5;241m.\u001b[39mcast_scalar_indexer(key)\n\u001b[1;32m-> 5175\u001b[0m     \u001b[38;5;28;01mreturn\u001b[39;00m getitem(key)\n\u001b[0;32m   5177\u001b[0m \u001b[38;5;28;01mif\u001b[39;00m \u001b[38;5;28misinstance\u001b[39m(key, \u001b[38;5;28mslice\u001b[39m):\n\u001b[0;32m   5178\u001b[0m     \u001b[38;5;66;03m# This case is separated from the conditional above to avoid\u001b[39;00m\n\u001b[0;32m   5179\u001b[0m     \u001b[38;5;66;03m# pessimization com.is_bool_indexer and ndim checks.\u001b[39;00m\n\u001b[0;32m   5180\u001b[0m     result \u001b[38;5;241m=\u001b[39m getitem(key)\n",
      "\u001b[1;31mIndexError\u001b[0m: index 0 is out of bounds for axis 0 with size 0"
     ]
    }
   ],
   "source": [
    "\n",
    "\n",
    "# Filter data for Italy and Germany\n",
    "italy_data = df3[df3['location'] == 'Italy']\n",
    "germany_data = df3[df3['location'] == 'Germany']\n",
    "\n",
    "# Calculate daily confirmed cases for each country\n",
    "italy_data['daily_cases'] = italy_data['new_cases'].diff().fillna(0)\n",
    "germany_data['daily_cases'] = germany_data['new_cases'].diff().fillna(0)\n",
    "\n",
    "# Calculate the difference in total confirmed cases between Italy and Germany\n",
    "difference = italy_data['daily_cases'].cumsum() - germany_data['daily_cases'].cumsum()\n",
    "\n",
    "# Find the first day where the difference becomes more than 10,000\n",
    "first_day = difference[difference > 10000].index[0]\n",
    "\n",
    "print(\"The difference in total confirmed cases between Italy and Germany became more than 10,000 on:\", first_day)\n"
   ]
  },
  {
   "cell_type": "code",
   "execution_count": 34,
   "id": "ce4365e4",
   "metadata": {},
   "outputs": [
    {
     "name": "stderr",
     "output_type": "stream",
     "text": [
      "C:\\Users\\wwaswa\\AppData\\Local\\Temp\\ipykernel_2984\\3119871016.py:6: SettingWithCopyWarning: \n",
      "A value is trying to be set on a copy of a slice from a DataFrame.\n",
      "Try using .loc[row_indexer,col_indexer] = value instead\n",
      "\n",
      "See the caveats in the documentation: https://pandas.pydata.org/pandas-docs/stable/user_guide/indexing.html#returning-a-view-versus-a-copy\n",
      "  italy_data['daily_cases'] = italy_data['new_cases'].diff().fillna(0)\n",
      "C:\\Users\\wwaswa\\AppData\\Local\\Temp\\ipykernel_2984\\3119871016.py:7: SettingWithCopyWarning: \n",
      "A value is trying to be set on a copy of a slice from a DataFrame.\n",
      "Try using .loc[row_indexer,col_indexer] = value instead\n",
      "\n",
      "See the caveats in the documentation: https://pandas.pydata.org/pandas-docs/stable/user_guide/indexing.html#returning-a-view-versus-a-copy\n",
      "  germany_data['daily_cases'] = germany_data['new_cases'].diff().fillna(0)\n"
     ]
    },
    {
     "ename": "IndexError",
     "evalue": "index 0 is out of bounds for axis 0 with size 0",
     "output_type": "error",
     "traceback": [
      "\u001b[1;31m---------------------------------------------------------------------------\u001b[0m",
      "\u001b[1;31mIndexError\u001b[0m                                Traceback (most recent call last)",
      "Cell \u001b[1;32mIn[34], line 15\u001b[0m\n\u001b[0;32m     12\u001b[0m \u001b[38;5;66;03m# Check if the difference array is empty\u001b[39;00m\n\u001b[0;32m     13\u001b[0m \u001b[38;5;28;01mif\u001b[39;00m \u001b[38;5;129;01mnot\u001b[39;00m difference\u001b[38;5;241m.\u001b[39mempty:\n\u001b[0;32m     14\u001b[0m     \u001b[38;5;66;03m# Find the first day where the difference becomes more than 10,000\u001b[39;00m\n\u001b[1;32m---> 15\u001b[0m     first_day \u001b[38;5;241m=\u001b[39m difference[difference \u001b[38;5;241m>\u001b[39m \u001b[38;5;241m10000\u001b[39m]\u001b[38;5;241m.\u001b[39mindex[\u001b[38;5;241m0\u001b[39m]\n\u001b[0;32m     16\u001b[0m     \u001b[38;5;28mprint\u001b[39m(\u001b[38;5;124m\"\u001b[39m\u001b[38;5;124mThe difference in total confirmed cases between Italy and Germany became more than 10,000 on:\u001b[39m\u001b[38;5;124m\"\u001b[39m, first_day)\n\u001b[0;32m     17\u001b[0m \u001b[38;5;28;01melse\u001b[39;00m:\n",
      "File \u001b[1;32m~\\Anaconda\\Software\\Lib\\site-packages\\pandas\\core\\indexes\\base.py:5175\u001b[0m, in \u001b[0;36mIndex.__getitem__\u001b[1;34m(self, key)\u001b[0m\n\u001b[0;32m   5172\u001b[0m \u001b[38;5;28;01mif\u001b[39;00m is_integer(key) \u001b[38;5;129;01mor\u001b[39;00m is_float(key):\n\u001b[0;32m   5173\u001b[0m     \u001b[38;5;66;03m# GH#44051 exclude bool, which would return a 2d ndarray\u001b[39;00m\n\u001b[0;32m   5174\u001b[0m     key \u001b[38;5;241m=\u001b[39m com\u001b[38;5;241m.\u001b[39mcast_scalar_indexer(key)\n\u001b[1;32m-> 5175\u001b[0m     \u001b[38;5;28;01mreturn\u001b[39;00m getitem(key)\n\u001b[0;32m   5177\u001b[0m \u001b[38;5;28;01mif\u001b[39;00m \u001b[38;5;28misinstance\u001b[39m(key, \u001b[38;5;28mslice\u001b[39m):\n\u001b[0;32m   5178\u001b[0m     \u001b[38;5;66;03m# This case is separated from the conditional above to avoid\u001b[39;00m\n\u001b[0;32m   5179\u001b[0m     \u001b[38;5;66;03m# pessimization com.is_bool_indexer and ndim checks.\u001b[39;00m\n\u001b[0;32m   5180\u001b[0m     result \u001b[38;5;241m=\u001b[39m getitem(key)\n",
      "\u001b[1;31mIndexError\u001b[0m: index 0 is out of bounds for axis 0 with size 0"
     ]
    }
   ],
   "source": [
    "\n",
    "\n",
    "\n",
    "\n",
    "# Filter data for Italy and Germany\n",
    "italy_data = df3[df3['location'] == 'Italy']\n",
    "germany_data = df3[df3['location'] == 'Germany']\n",
    "\n",
    "# Calculate daily confirmed cases for each country\n",
    "italy_data['daily_cases'] = italy_data['new_cases'].diff().fillna(0)\n",
    "germany_data['daily_cases'] = germany_data['new_cases'].diff().fillna(0)\n",
    "\n",
    "# Calculate the difference in total confirmed cases between Italy and Germany\n",
    "difference = italy_data['daily_cases'].cumsum() - germany_data['daily_cases'].cumsum()\n",
    "\n",
    "# Check if the difference array is empty\n",
    "if not difference.empty:\n",
    "    # Find the first day where the difference becomes more than 10,000\n",
    "    first_day = difference[difference > 10000].index[0]\n",
    "    print(\"The difference in total confirmed cases between Italy and Germany became more than 10,000 on:\", first_day)\n",
    "else:\n",
    "    print(\"The difference in total confirmed cases between Italy and Germany never exceeded 10,000.\")\n"
   ]
  },
  {
   "cell_type": "code",
   "execution_count": 35,
   "id": "da84714b",
   "metadata": {},
   "outputs": [],
   "source": [
    "# Filter data for Italy and Germany\n",
    "italy_data = df3[df3['location'] == 'Italy']\n"
   ]
  },
  {
   "cell_type": "code",
   "execution_count": 36,
   "id": "555e6901",
   "metadata": {},
   "outputs": [],
   "source": [
    "germany_data = df3[df3['location'] == 'Germany']"
   ]
  },
  {
   "cell_type": "code",
   "execution_count": 40,
   "id": "0114cfbc",
   "metadata": {},
   "outputs": [
    {
     "data": {
      "text/plain": [
       "location                       object\n",
       "date                           object\n",
       "new_cases                       int64\n",
       "new_deaths                      int64\n",
       "population                    float64\n",
       "aged_65_older_percent         float64\n",
       "gdp_per_capita                float64\n",
       "hospital_beds_per_thousand    float64\n",
       "dtype: object"
      ]
     },
     "execution_count": 40,
     "metadata": {},
     "output_type": "execute_result"
    }
   ],
   "source": [
    "df3.dtypes"
   ]
  },
  {
   "cell_type": "code",
   "execution_count": null,
   "id": "fb6fb120",
   "metadata": {},
   "outputs": [],
   "source": [
    "\n",
    "\n",
    "# Try converting the date column to datetime format (adjust if necessary)\n",
    "try:\n",
    "  df[\"date\"] = pd.to_datetime(df[\"date\"])\n",
    "except:\n",
    "  print(\"Automatic date format detection failed. Please check the format if known.\")\n",
    "\n",
    "# Filter for Italy and Germany\n",
    "italy_germany_data = df[df[\"location\"].isin([\"Italy\", \"Germany\"])]\n",
    "\n",
    "# Calculate daily case difference\n",
    "italy_germany_data[\"case_difference\"] = italy_germany_data.groupby('location')['new_cases'].diff()\n",
    "\n",
    "# Find the date when the difference exceeds 10,000\n",
    "first_exceed_date = italy_germany_data[italy_germany_data[\"case_difference\"].abs() > 10000][\"date\"].iloc[0]\n",
    "\n",
    "print(f\"The difference in daily cases between Italy and Germany first exceeded 10,000 on: {first_exceed_date}\")\n",
    "\n"
   ]
  },
  {
   "cell_type": "code",
   "execution_count": 42,
   "id": "b903c698",
   "metadata": {},
   "outputs": [],
   "source": [
    "df3[\"date\"] = pd.to_datetime(df3[\"date\"])"
   ]
  },
  {
   "cell_type": "code",
   "execution_count": 43,
   "id": "cf9a5030",
   "metadata": {},
   "outputs": [
    {
     "data": {
      "text/plain": [
       "location                              object\n",
       "date                          datetime64[ns]\n",
       "new_cases                              int64\n",
       "new_deaths                             int64\n",
       "population                           float64\n",
       "aged_65_older_percent                float64\n",
       "gdp_per_capita                       float64\n",
       "hospital_beds_per_thousand           float64\n",
       "dtype: object"
      ]
     },
     "execution_count": 43,
     "metadata": {},
     "output_type": "execute_result"
    }
   ],
   "source": [
    "df3.dtypes"
   ]
  },
  {
   "cell_type": "code",
   "execution_count": 45,
   "id": "debb2d0e",
   "metadata": {},
   "outputs": [
    {
     "name": "stderr",
     "output_type": "stream",
     "text": [
      "C:\\Users\\wwaswa\\AppData\\Local\\Temp\\ipykernel_2984\\3412031384.py:5: SettingWithCopyWarning: \n",
      "A value is trying to be set on a copy of a slice from a DataFrame.\n",
      "Try using .loc[row_indexer,col_indexer] = value instead\n",
      "\n",
      "See the caveats in the documentation: https://pandas.pydata.org/pandas-docs/stable/user_guide/indexing.html#returning-a-view-versus-a-copy\n",
      "  italy_germany_data[\"case_difference\"] = italy_germany_data.groupby('location')['new_cases'].diff()\n"
     ]
    },
    {
     "ename": "IndexError",
     "evalue": "single positional indexer is out-of-bounds",
     "output_type": "error",
     "traceback": [
      "\u001b[1;31m---------------------------------------------------------------------------\u001b[0m",
      "\u001b[1;31mIndexError\u001b[0m                                Traceback (most recent call last)",
      "Cell \u001b[1;32mIn[45], line 8\u001b[0m\n\u001b[0;32m      5\u001b[0m italy_germany_data[\u001b[38;5;124m\"\u001b[39m\u001b[38;5;124mcase_difference\u001b[39m\u001b[38;5;124m\"\u001b[39m] \u001b[38;5;241m=\u001b[39m italy_germany_data\u001b[38;5;241m.\u001b[39mgroupby(\u001b[38;5;124m'\u001b[39m\u001b[38;5;124mlocation\u001b[39m\u001b[38;5;124m'\u001b[39m)[\u001b[38;5;124m'\u001b[39m\u001b[38;5;124mnew_cases\u001b[39m\u001b[38;5;124m'\u001b[39m]\u001b[38;5;241m.\u001b[39mdiff()\n\u001b[0;32m      7\u001b[0m \u001b[38;5;66;03m# Find the date when the difference exceeds 10,000\u001b[39;00m\n\u001b[1;32m----> 8\u001b[0m first_exceed_date \u001b[38;5;241m=\u001b[39m italy_germany_data[italy_germany_data[\u001b[38;5;124m\"\u001b[39m\u001b[38;5;124mcase_difference\u001b[39m\u001b[38;5;124m\"\u001b[39m]\u001b[38;5;241m.\u001b[39mabs() \u001b[38;5;241m>\u001b[39m \u001b[38;5;241m10000\u001b[39m][\u001b[38;5;124m\"\u001b[39m\u001b[38;5;124mdate\u001b[39m\u001b[38;5;124m\"\u001b[39m]\u001b[38;5;241m.\u001b[39miloc[\u001b[38;5;241m0\u001b[39m]\n\u001b[0;32m     10\u001b[0m \u001b[38;5;28mprint\u001b[39m(\u001b[38;5;124mf\u001b[39m\u001b[38;5;124m\"\u001b[39m\u001b[38;5;124mThe difference in daily cases between Italy and Germany first exceeded 10,000 on: \u001b[39m\u001b[38;5;132;01m{\u001b[39;00mfirst_exceed_date\u001b[38;5;132;01m}\u001b[39;00m\u001b[38;5;124m\"\u001b[39m)\n",
      "File \u001b[1;32m~\\Anaconda\\Software\\Lib\\site-packages\\pandas\\core\\indexing.py:1103\u001b[0m, in \u001b[0;36m_LocationIndexer.__getitem__\u001b[1;34m(self, key)\u001b[0m\n\u001b[0;32m   1100\u001b[0m axis \u001b[38;5;241m=\u001b[39m \u001b[38;5;28mself\u001b[39m\u001b[38;5;241m.\u001b[39maxis \u001b[38;5;129;01mor\u001b[39;00m \u001b[38;5;241m0\u001b[39m\n\u001b[0;32m   1102\u001b[0m maybe_callable \u001b[38;5;241m=\u001b[39m com\u001b[38;5;241m.\u001b[39mapply_if_callable(key, \u001b[38;5;28mself\u001b[39m\u001b[38;5;241m.\u001b[39mobj)\n\u001b[1;32m-> 1103\u001b[0m \u001b[38;5;28;01mreturn\u001b[39;00m \u001b[38;5;28mself\u001b[39m\u001b[38;5;241m.\u001b[39m_getitem_axis(maybe_callable, axis\u001b[38;5;241m=\u001b[39maxis)\n",
      "File \u001b[1;32m~\\Anaconda\\Software\\Lib\\site-packages\\pandas\\core\\indexing.py:1656\u001b[0m, in \u001b[0;36m_iLocIndexer._getitem_axis\u001b[1;34m(self, key, axis)\u001b[0m\n\u001b[0;32m   1653\u001b[0m     \u001b[38;5;28;01mraise\u001b[39;00m \u001b[38;5;167;01mTypeError\u001b[39;00m(\u001b[38;5;124m\"\u001b[39m\u001b[38;5;124mCannot index by location index with a non-integer key\u001b[39m\u001b[38;5;124m\"\u001b[39m)\n\u001b[0;32m   1655\u001b[0m \u001b[38;5;66;03m# validate the location\u001b[39;00m\n\u001b[1;32m-> 1656\u001b[0m \u001b[38;5;28mself\u001b[39m\u001b[38;5;241m.\u001b[39m_validate_integer(key, axis)\n\u001b[0;32m   1658\u001b[0m \u001b[38;5;28;01mreturn\u001b[39;00m \u001b[38;5;28mself\u001b[39m\u001b[38;5;241m.\u001b[39mobj\u001b[38;5;241m.\u001b[39m_ixs(key, axis\u001b[38;5;241m=\u001b[39maxis)\n",
      "File \u001b[1;32m~\\Anaconda\\Software\\Lib\\site-packages\\pandas\\core\\indexing.py:1589\u001b[0m, in \u001b[0;36m_iLocIndexer._validate_integer\u001b[1;34m(self, key, axis)\u001b[0m\n\u001b[0;32m   1587\u001b[0m len_axis \u001b[38;5;241m=\u001b[39m \u001b[38;5;28mlen\u001b[39m(\u001b[38;5;28mself\u001b[39m\u001b[38;5;241m.\u001b[39mobj\u001b[38;5;241m.\u001b[39m_get_axis(axis))\n\u001b[0;32m   1588\u001b[0m \u001b[38;5;28;01mif\u001b[39;00m key \u001b[38;5;241m>\u001b[39m\u001b[38;5;241m=\u001b[39m len_axis \u001b[38;5;129;01mor\u001b[39;00m key \u001b[38;5;241m<\u001b[39m \u001b[38;5;241m-\u001b[39mlen_axis:\n\u001b[1;32m-> 1589\u001b[0m     \u001b[38;5;28;01mraise\u001b[39;00m \u001b[38;5;167;01mIndexError\u001b[39;00m(\u001b[38;5;124m\"\u001b[39m\u001b[38;5;124msingle positional indexer is out-of-bounds\u001b[39m\u001b[38;5;124m\"\u001b[39m)\n",
      "\u001b[1;31mIndexError\u001b[0m: single positional indexer is out-of-bounds"
     ]
    }
   ],
   "source": [
    "# Filter for Italy and Germany\n",
    "italy_germany_data = df3[df3[\"location\"].isin([\"Italy\", \"Germany\"])]\n",
    "\n",
    "# Calculate daily case difference\n",
    "italy_germany_data[\"case_difference\"] = italy_germany_data.groupby('location')['new_cases'].diff()\n",
    "\n",
    "# Find the date when the difference exceeds 10,000\n",
    "first_exceed_date = italy_germany_data[italy_germany_data[\"case_difference\"].abs() > 10000][\"date\"].iloc[0]\n",
    "\n",
    "print(f\"The difference in daily cases between Italy and Germany first exceeded 10,000 on: {first_exceed_date}\")\n",
    "\n"
   ]
  },
  {
   "cell_type": "code",
   "execution_count": 46,
   "id": "fa471b33",
   "metadata": {},
   "outputs": [],
   "source": [
    "# Filter for Italy and Germany\n",
    "italy_germany_data = df3[df3[\"location\"].isin([\"Italy\", \"Germany\"])]\n"
   ]
  },
  {
   "cell_type": "code",
   "execution_count": 48,
   "id": "6c2353eb",
   "metadata": {},
   "outputs": [
    {
     "name": "stderr",
     "output_type": "stream",
     "text": [
      "C:\\Users\\wwaswa\\AppData\\Local\\Temp\\ipykernel_2984\\4143102342.py:2: SettingWithCopyWarning: \n",
      "A value is trying to be set on a copy of a slice from a DataFrame.\n",
      "Try using .loc[row_indexer,col_indexer] = value instead\n",
      "\n",
      "See the caveats in the documentation: https://pandas.pydata.org/pandas-docs/stable/user_guide/indexing.html#returning-a-view-versus-a-copy\n",
      "  italy_germany_data[\"case_difference\"] = italy_germany_data.groupby('location')['new_cases'].diff()\n"
     ]
    }
   ],
   "source": [
    "#Calculate daily case difference\n",
    "italy_germany_data[\"case_difference\"] = italy_germany_data.groupby('location')['new_cases'].diff()"
   ]
  },
  {
   "cell_type": "code",
   "execution_count": 51,
   "id": "bd56cec2",
   "metadata": {},
   "outputs": [
    {
     "name": "stderr",
     "output_type": "stream",
     "text": [
      "C:\\Users\\wwaswa\\AppData\\Local\\Temp\\ipykernel_2984\\1335081196.py:5: SettingWithCopyWarning: \n",
      "A value is trying to be set on a copy of a slice from a DataFrame.\n",
      "Try using .loc[row_indexer,col_indexer] = value instead\n",
      "\n",
      "See the caveats in the documentation: https://pandas.pydata.org/pandas-docs/stable/user_guide/indexing.html#returning-a-view-versus-a-copy\n",
      "  italy_germany_data.loc[:, 'case_difference'] = italy_germany_data.groupby('location')['new_cases'].diff()\n"
     ]
    },
    {
     "ename": "IndexError",
     "evalue": "single positional indexer is out-of-bounds",
     "output_type": "error",
     "traceback": [
      "\u001b[1;31m---------------------------------------------------------------------------\u001b[0m",
      "\u001b[1;31mIndexError\u001b[0m                                Traceback (most recent call last)",
      "Cell \u001b[1;32mIn[51], line 8\u001b[0m\n\u001b[0;32m      5\u001b[0m italy_germany_data\u001b[38;5;241m.\u001b[39mloc[:, \u001b[38;5;124m'\u001b[39m\u001b[38;5;124mcase_difference\u001b[39m\u001b[38;5;124m'\u001b[39m] \u001b[38;5;241m=\u001b[39m italy_germany_data\u001b[38;5;241m.\u001b[39mgroupby(\u001b[38;5;124m'\u001b[39m\u001b[38;5;124mlocation\u001b[39m\u001b[38;5;124m'\u001b[39m)[\u001b[38;5;124m'\u001b[39m\u001b[38;5;124mnew_cases\u001b[39m\u001b[38;5;124m'\u001b[39m]\u001b[38;5;241m.\u001b[39mdiff()\n\u001b[0;32m      7\u001b[0m \u001b[38;5;66;03m# Find the date when the difference exceeds 10,000\u001b[39;00m\n\u001b[1;32m----> 8\u001b[0m first_exceed_date \u001b[38;5;241m=\u001b[39m italy_germany_data[italy_germany_data[\u001b[38;5;124m\"\u001b[39m\u001b[38;5;124mcase_difference\u001b[39m\u001b[38;5;124m\"\u001b[39m]\u001b[38;5;241m.\u001b[39mabs() \u001b[38;5;241m>\u001b[39m \u001b[38;5;241m10000\u001b[39m][\u001b[38;5;124m\"\u001b[39m\u001b[38;5;124mdate\u001b[39m\u001b[38;5;124m\"\u001b[39m]\u001b[38;5;241m.\u001b[39miloc[\u001b[38;5;241m0\u001b[39m]\n\u001b[0;32m     10\u001b[0m \u001b[38;5;28mprint\u001b[39m(\u001b[38;5;124mf\u001b[39m\u001b[38;5;124m\"\u001b[39m\u001b[38;5;124mThe difference in daily cases between Italy and Germany first exceeded 10,000 on: \u001b[39m\u001b[38;5;132;01m{\u001b[39;00mfirst_exceed_date\u001b[38;5;132;01m}\u001b[39;00m\u001b[38;5;124m\"\u001b[39m)\n",
      "File \u001b[1;32m~\\Anaconda\\Software\\Lib\\site-packages\\pandas\\core\\indexing.py:1103\u001b[0m, in \u001b[0;36m_LocationIndexer.__getitem__\u001b[1;34m(self, key)\u001b[0m\n\u001b[0;32m   1100\u001b[0m axis \u001b[38;5;241m=\u001b[39m \u001b[38;5;28mself\u001b[39m\u001b[38;5;241m.\u001b[39maxis \u001b[38;5;129;01mor\u001b[39;00m \u001b[38;5;241m0\u001b[39m\n\u001b[0;32m   1102\u001b[0m maybe_callable \u001b[38;5;241m=\u001b[39m com\u001b[38;5;241m.\u001b[39mapply_if_callable(key, \u001b[38;5;28mself\u001b[39m\u001b[38;5;241m.\u001b[39mobj)\n\u001b[1;32m-> 1103\u001b[0m \u001b[38;5;28;01mreturn\u001b[39;00m \u001b[38;5;28mself\u001b[39m\u001b[38;5;241m.\u001b[39m_getitem_axis(maybe_callable, axis\u001b[38;5;241m=\u001b[39maxis)\n",
      "File \u001b[1;32m~\\Anaconda\\Software\\Lib\\site-packages\\pandas\\core\\indexing.py:1656\u001b[0m, in \u001b[0;36m_iLocIndexer._getitem_axis\u001b[1;34m(self, key, axis)\u001b[0m\n\u001b[0;32m   1653\u001b[0m     \u001b[38;5;28;01mraise\u001b[39;00m \u001b[38;5;167;01mTypeError\u001b[39;00m(\u001b[38;5;124m\"\u001b[39m\u001b[38;5;124mCannot index by location index with a non-integer key\u001b[39m\u001b[38;5;124m\"\u001b[39m)\n\u001b[0;32m   1655\u001b[0m \u001b[38;5;66;03m# validate the location\u001b[39;00m\n\u001b[1;32m-> 1656\u001b[0m \u001b[38;5;28mself\u001b[39m\u001b[38;5;241m.\u001b[39m_validate_integer(key, axis)\n\u001b[0;32m   1658\u001b[0m \u001b[38;5;28;01mreturn\u001b[39;00m \u001b[38;5;28mself\u001b[39m\u001b[38;5;241m.\u001b[39mobj\u001b[38;5;241m.\u001b[39m_ixs(key, axis\u001b[38;5;241m=\u001b[39maxis)\n",
      "File \u001b[1;32m~\\Anaconda\\Software\\Lib\\site-packages\\pandas\\core\\indexing.py:1589\u001b[0m, in \u001b[0;36m_iLocIndexer._validate_integer\u001b[1;34m(self, key, axis)\u001b[0m\n\u001b[0;32m   1587\u001b[0m len_axis \u001b[38;5;241m=\u001b[39m \u001b[38;5;28mlen\u001b[39m(\u001b[38;5;28mself\u001b[39m\u001b[38;5;241m.\u001b[39mobj\u001b[38;5;241m.\u001b[39m_get_axis(axis))\n\u001b[0;32m   1588\u001b[0m \u001b[38;5;28;01mif\u001b[39;00m key \u001b[38;5;241m>\u001b[39m\u001b[38;5;241m=\u001b[39m len_axis \u001b[38;5;129;01mor\u001b[39;00m key \u001b[38;5;241m<\u001b[39m \u001b[38;5;241m-\u001b[39mlen_axis:\n\u001b[1;32m-> 1589\u001b[0m     \u001b[38;5;28;01mraise\u001b[39;00m \u001b[38;5;167;01mIndexError\u001b[39;00m(\u001b[38;5;124m\"\u001b[39m\u001b[38;5;124msingle positional indexer is out-of-bounds\u001b[39m\u001b[38;5;124m\"\u001b[39m)\n",
      "\u001b[1;31mIndexError\u001b[0m: single positional indexer is out-of-bounds"
     ]
    }
   ],
   "source": [
    "\n",
    "\n",
    "# Filter for Italy and Germany\n",
    "italy_germany_data = df3[df3[\"location\"].isin([\"Italy\", \"Germany\"])]\n",
    "\n",
    "# Calculate daily case difference using .loc for assignment\n",
    "italy_germany_data.loc[:, 'case_difference'] = italy_germany_data.groupby('location')['new_cases'].diff()\n",
    "\n",
    "# Find the date when the difference exceeds 10,000\n",
    "first_exceed_date = italy_germany_data[italy_germany_data[\"case_difference\"].abs() > 10000][\"date\"].iloc[0]\n",
    "\n",
    "print(f\"The difference in daily cases between Italy and Germany first exceeded 10,000 on: {first_exceed_date}\")\n"
   ]
  },
  {
   "cell_type": "code",
   "execution_count": 53,
   "id": "0443225e",
   "metadata": {},
   "outputs": [
    {
     "name": "stdout",
     "output_type": "stream",
     "text": [
      "(326, 9)\n"
     ]
    }
   ],
   "source": [
    "print(italy_germany_data.shape)"
   ]
  },
  {
   "cell_type": "code",
   "execution_count": 54,
   "id": "d825f512",
   "metadata": {},
   "outputs": [
    {
     "data": {
      "text/html": [
       "<div>\n",
       "<style scoped>\n",
       "    .dataframe tbody tr th:only-of-type {\n",
       "        vertical-align: middle;\n",
       "    }\n",
       "\n",
       "    .dataframe tbody tr th {\n",
       "        vertical-align: top;\n",
       "    }\n",
       "\n",
       "    .dataframe thead th {\n",
       "        text-align: right;\n",
       "    }\n",
       "</style>\n",
       "<table border=\"1\" class=\"dataframe\">\n",
       "  <thead>\n",
       "    <tr style=\"text-align: right;\">\n",
       "      <th></th>\n",
       "      <th>location</th>\n",
       "      <th>date</th>\n",
       "      <th>new_cases</th>\n",
       "      <th>new_deaths</th>\n",
       "      <th>population</th>\n",
       "      <th>aged_65_older_percent</th>\n",
       "      <th>gdp_per_capita</th>\n",
       "      <th>hospital_beds_per_thousand</th>\n",
       "      <th>case_difference</th>\n",
       "    </tr>\n",
       "  </thead>\n",
       "  <tbody>\n",
       "    <tr>\n",
       "      <th>7914</th>\n",
       "      <td>Germany</td>\n",
       "      <td>2019-12-31</td>\n",
       "      <td>0</td>\n",
       "      <td>0</td>\n",
       "      <td>83783945.0</td>\n",
       "      <td>21.453</td>\n",
       "      <td>45229.245</td>\n",
       "      <td>8.0</td>\n",
       "      <td>NaN</td>\n",
       "    </tr>\n",
       "    <tr>\n",
       "      <th>7915</th>\n",
       "      <td>Germany</td>\n",
       "      <td>2020-01-01</td>\n",
       "      <td>0</td>\n",
       "      <td>0</td>\n",
       "      <td>83783945.0</td>\n",
       "      <td>21.453</td>\n",
       "      <td>45229.245</td>\n",
       "      <td>8.0</td>\n",
       "      <td>0.0</td>\n",
       "    </tr>\n",
       "    <tr>\n",
       "      <th>7916</th>\n",
       "      <td>Germany</td>\n",
       "      <td>2020-01-02</td>\n",
       "      <td>0</td>\n",
       "      <td>0</td>\n",
       "      <td>83783945.0</td>\n",
       "      <td>21.453</td>\n",
       "      <td>45229.245</td>\n",
       "      <td>8.0</td>\n",
       "      <td>0.0</td>\n",
       "    </tr>\n",
       "    <tr>\n",
       "      <th>7917</th>\n",
       "      <td>Germany</td>\n",
       "      <td>2020-01-03</td>\n",
       "      <td>0</td>\n",
       "      <td>0</td>\n",
       "      <td>83783945.0</td>\n",
       "      <td>21.453</td>\n",
       "      <td>45229.245</td>\n",
       "      <td>8.0</td>\n",
       "      <td>0.0</td>\n",
       "    </tr>\n",
       "    <tr>\n",
       "      <th>7918</th>\n",
       "      <td>Germany</td>\n",
       "      <td>2020-01-04</td>\n",
       "      <td>0</td>\n",
       "      <td>0</td>\n",
       "      <td>83783945.0</td>\n",
       "      <td>21.453</td>\n",
       "      <td>45229.245</td>\n",
       "      <td>8.0</td>\n",
       "      <td>0.0</td>\n",
       "    </tr>\n",
       "  </tbody>\n",
       "</table>\n",
       "</div>"
      ],
      "text/plain": [
       "     location       date  new_cases  new_deaths  population  \\\n",
       "7914  Germany 2019-12-31          0           0  83783945.0   \n",
       "7915  Germany 2020-01-01          0           0  83783945.0   \n",
       "7916  Germany 2020-01-02          0           0  83783945.0   \n",
       "7917  Germany 2020-01-03          0           0  83783945.0   \n",
       "7918  Germany 2020-01-04          0           0  83783945.0   \n",
       "\n",
       "      aged_65_older_percent  gdp_per_capita  hospital_beds_per_thousand  \\\n",
       "7914                 21.453       45229.245                         8.0   \n",
       "7915                 21.453       45229.245                         8.0   \n",
       "7916                 21.453       45229.245                         8.0   \n",
       "7917                 21.453       45229.245                         8.0   \n",
       "7918                 21.453       45229.245                         8.0   \n",
       "\n",
       "      case_difference  \n",
       "7914              NaN  \n",
       "7915              0.0  \n",
       "7916              0.0  \n",
       "7917              0.0  \n",
       "7918              0.0  "
      ]
     },
     "execution_count": 54,
     "metadata": {},
     "output_type": "execute_result"
    }
   ],
   "source": [
    "italy_germany_data.head()"
   ]
  },
  {
   "cell_type": "code",
   "execution_count": 55,
   "id": "654de96f",
   "metadata": {},
   "outputs": [
    {
     "name": "stderr",
     "output_type": "stream",
     "text": [
      "C:\\Users\\wwaswa\\AppData\\Local\\Temp\\ipykernel_2984\\3623064884.py:2: SettingWithCopyWarning: \n",
      "A value is trying to be set on a copy of a slice from a DataFrame.\n",
      "Try using .loc[row_indexer,col_indexer] = value instead\n",
      "\n",
      "See the caveats in the documentation: https://pandas.pydata.org/pandas-docs/stable/user_guide/indexing.html#returning-a-view-versus-a-copy\n",
      "  italy_germany_data[\"case_difference\"] = italy_germany_data.groupby('location')['new_cases'].diff()\n"
     ]
    }
   ],
   "source": [
    "# Calculate daily case difference\n",
    "italy_germany_data[\"case_difference\"] = italy_germany_data.groupby('location')['new_cases'].diff()"
   ]
  },
  {
   "cell_type": "code",
   "execution_count": 57,
   "id": "630ce7da",
   "metadata": {},
   "outputs": [
    {
     "name": "stderr",
     "output_type": "stream",
     "text": [
      "C:\\Users\\wwaswa\\AppData\\Local\\Temp\\ipykernel_2984\\3571829302.py:9: SettingWithCopyWarning: \n",
      "A value is trying to be set on a copy of a slice from a DataFrame.\n",
      "Try using .loc[row_indexer,col_indexer] = value instead\n",
      "\n",
      "See the caveats in the documentation: https://pandas.pydata.org/pandas-docs/stable/user_guide/indexing.html#returning-a-view-versus-a-copy\n",
      "  italy_germany_data.loc[:, 'case_difference'] = italy_germany_data.groupby('location')['new_cases'].diff()\n"
     ]
    },
    {
     "ename": "IndexError",
     "evalue": "single positional indexer is out-of-bounds",
     "output_type": "error",
     "traceback": [
      "\u001b[1;31m---------------------------------------------------------------------------\u001b[0m",
      "\u001b[1;31mIndexError\u001b[0m                                Traceback (most recent call last)",
      "Cell \u001b[1;32mIn[57], line 12\u001b[0m\n\u001b[0;32m      9\u001b[0m italy_germany_data\u001b[38;5;241m.\u001b[39mloc[:, \u001b[38;5;124m'\u001b[39m\u001b[38;5;124mcase_difference\u001b[39m\u001b[38;5;124m'\u001b[39m] \u001b[38;5;241m=\u001b[39m italy_germany_data\u001b[38;5;241m.\u001b[39mgroupby(\u001b[38;5;124m'\u001b[39m\u001b[38;5;124mlocation\u001b[39m\u001b[38;5;124m'\u001b[39m)[\u001b[38;5;124m'\u001b[39m\u001b[38;5;124mnew_cases\u001b[39m\u001b[38;5;124m'\u001b[39m]\u001b[38;5;241m.\u001b[39mdiff()\n\u001b[0;32m     11\u001b[0m \u001b[38;5;66;03m# Find the date when the difference exceeds 10,000\u001b[39;00m\n\u001b[1;32m---> 12\u001b[0m first_exceed_date \u001b[38;5;241m=\u001b[39m italy_germany_data[italy_germany_data[\u001b[38;5;124m\"\u001b[39m\u001b[38;5;124mcase_difference\u001b[39m\u001b[38;5;124m\"\u001b[39m]\u001b[38;5;241m.\u001b[39mabs() \u001b[38;5;241m>\u001b[39m \u001b[38;5;241m10000\u001b[39m][\u001b[38;5;124m\"\u001b[39m\u001b[38;5;124mdate\u001b[39m\u001b[38;5;124m\"\u001b[39m]\u001b[38;5;241m.\u001b[39miloc[\u001b[38;5;241m0\u001b[39m]\n\u001b[0;32m     14\u001b[0m \u001b[38;5;28mprint\u001b[39m(\u001b[38;5;124mf\u001b[39m\u001b[38;5;124m\"\u001b[39m\u001b[38;5;124mThe difference in daily cases between Italy and Germany first exceeded 10,000 on: \u001b[39m\u001b[38;5;132;01m{\u001b[39;00mfirst_exceed_date\u001b[38;5;132;01m}\u001b[39;00m\u001b[38;5;124m\"\u001b[39m)\n",
      "File \u001b[1;32m~\\Anaconda\\Software\\Lib\\site-packages\\pandas\\core\\indexing.py:1103\u001b[0m, in \u001b[0;36m_LocationIndexer.__getitem__\u001b[1;34m(self, key)\u001b[0m\n\u001b[0;32m   1100\u001b[0m axis \u001b[38;5;241m=\u001b[39m \u001b[38;5;28mself\u001b[39m\u001b[38;5;241m.\u001b[39maxis \u001b[38;5;129;01mor\u001b[39;00m \u001b[38;5;241m0\u001b[39m\n\u001b[0;32m   1102\u001b[0m maybe_callable \u001b[38;5;241m=\u001b[39m com\u001b[38;5;241m.\u001b[39mapply_if_callable(key, \u001b[38;5;28mself\u001b[39m\u001b[38;5;241m.\u001b[39mobj)\n\u001b[1;32m-> 1103\u001b[0m \u001b[38;5;28;01mreturn\u001b[39;00m \u001b[38;5;28mself\u001b[39m\u001b[38;5;241m.\u001b[39m_getitem_axis(maybe_callable, axis\u001b[38;5;241m=\u001b[39maxis)\n",
      "File \u001b[1;32m~\\Anaconda\\Software\\Lib\\site-packages\\pandas\\core\\indexing.py:1656\u001b[0m, in \u001b[0;36m_iLocIndexer._getitem_axis\u001b[1;34m(self, key, axis)\u001b[0m\n\u001b[0;32m   1653\u001b[0m     \u001b[38;5;28;01mraise\u001b[39;00m \u001b[38;5;167;01mTypeError\u001b[39;00m(\u001b[38;5;124m\"\u001b[39m\u001b[38;5;124mCannot index by location index with a non-integer key\u001b[39m\u001b[38;5;124m\"\u001b[39m)\n\u001b[0;32m   1655\u001b[0m \u001b[38;5;66;03m# validate the location\u001b[39;00m\n\u001b[1;32m-> 1656\u001b[0m \u001b[38;5;28mself\u001b[39m\u001b[38;5;241m.\u001b[39m_validate_integer(key, axis)\n\u001b[0;32m   1658\u001b[0m \u001b[38;5;28;01mreturn\u001b[39;00m \u001b[38;5;28mself\u001b[39m\u001b[38;5;241m.\u001b[39mobj\u001b[38;5;241m.\u001b[39m_ixs(key, axis\u001b[38;5;241m=\u001b[39maxis)\n",
      "File \u001b[1;32m~\\Anaconda\\Software\\Lib\\site-packages\\pandas\\core\\indexing.py:1589\u001b[0m, in \u001b[0;36m_iLocIndexer._validate_integer\u001b[1;34m(self, key, axis)\u001b[0m\n\u001b[0;32m   1587\u001b[0m len_axis \u001b[38;5;241m=\u001b[39m \u001b[38;5;28mlen\u001b[39m(\u001b[38;5;28mself\u001b[39m\u001b[38;5;241m.\u001b[39mobj\u001b[38;5;241m.\u001b[39m_get_axis(axis))\n\u001b[0;32m   1588\u001b[0m \u001b[38;5;28;01mif\u001b[39;00m key \u001b[38;5;241m>\u001b[39m\u001b[38;5;241m=\u001b[39m len_axis \u001b[38;5;129;01mor\u001b[39;00m key \u001b[38;5;241m<\u001b[39m \u001b[38;5;241m-\u001b[39mlen_axis:\n\u001b[1;32m-> 1589\u001b[0m     \u001b[38;5;28;01mraise\u001b[39;00m \u001b[38;5;167;01mIndexError\u001b[39;00m(\u001b[38;5;124m\"\u001b[39m\u001b[38;5;124msingle positional indexer is out-of-bounds\u001b[39m\u001b[38;5;124m\"\u001b[39m)\n",
      "\u001b[1;31mIndexError\u001b[0m: single positional indexer is out-of-bounds"
     ]
    }
   ],
   "source": [
    "\n",
    "\n",
    "# Filter for Italy and Germany\n",
    "italy_germany_data = df3[df3[\"location\"].isin([\"Italy\", \"Germany\"])]\n",
    "\n",
    "# Handle potential empty DataFrame (add check and message)\n",
    "if italy_germany_data.empty:\n",
    "  print(\"Data for Italy and Germany not found or empty.\")\n",
    "else:\n",
    "  # Calculate daily case difference using .loc for in-place assignment\n",
    "  italy_germany_data.loc[:, 'case_difference'] = italy_germany_data.groupby('location')['new_cases'].diff()\n",
    "\n",
    "  # Find the date when the difference exceeds 10,000\n",
    "  first_exceed_date = italy_germany_data[italy_germany_data[\"case_difference\"].abs() > 10000][\"date\"].iloc[0]\n",
    "\n",
    "  print(f\"The difference in daily cases between Italy and Germany first exceeded 10,000 on: {first_exceed_date}\")\n"
   ]
  },
  {
   "cell_type": "code",
   "execution_count": null,
   "id": "8c128638",
   "metadata": {},
   "outputs": [],
   "source": [
    "\n",
    "import numpy as np\n",
    "from scipy.optimize import curve_fit\n",
    "\n",
    "\n",
    "\n",
    "# Filter data for Italy between specified dates\n",
    "italy_data = df3[(df3['location'] == 'Italy') & \n",
    "                        (df3['date'] >= '2020-02-28') & \n",
    "                        (df3['date'] <= '2020-03-20')]\n",
    "\n",
    "# Get the cumulative number of confirmed cases\n",
    "cumulative_cases = italy_data['new_cases'].cumsum()\n",
    "\n",
    "# Define the exponential function\n",
    "def exponential_function(x, A, B):\n",
    "    return A * np.exp(B * x)\n",
    "\n",
    "# Fit the exponential function to the data\n",
    "popt, pcov = curve_fit(exponential_function, range(len(cumulative_cases)), cumulative_cases)\n",
    "\n",
    "# Predict cumulative cases using the fitted exponential function\n",
    "predicted_cases = exponential_function(range(len(cumulative_cases)), *popt)\n",
    "\n",
    "# Get the total number of real cases on 2020-03-20\n",
    "real_cases_2020_03_20 = italy_data.loc[italy_data['date'] == '2020-03-20', 'new_cases'].sum()\n",
    "\n",
    "# Calculate the difference between the predicted and real cases on 2020-03-20\n",
    "difference = predi\n"
   ]
  },
  {
   "cell_type": "code",
   "execution_count": 59,
   "id": "172fcce4",
   "metadata": {},
   "outputs": [
    {
     "name": "stdout",
     "output_type": "stream",
     "text": [
      "Difference between the exponential curve and the total number of real cases on 2020-03-20: 37024.69267169266\n"
     ]
    }
   ],
   "source": [
    "import numpy as np\n",
    "from scipy.optimize import curve_fit\n",
    "\n",
    "\n",
    "# Filter data for Italy between specified dates\n",
    "italy_data = df3[(df3['location'] == 'Italy') & \n",
    "                        (df3['date'] >= '2020-02-28') & \n",
    "                        (df3['date'] <= '2020-03-20')]\n",
    "\n",
    "# Get the cumulative number of confirmed cases\n",
    "cumulative_cases = italy_data['new_cases'].cumsum()\n",
    "\n",
    "# Define the exponential function\n",
    "def exponential_function(x, A, B):\n",
    "    return A * np.exp(B * x)\n",
    "\n",
    "# Fit the exponential function to the data\n",
    "popt, pcov = curve_fit(exponential_function, range(len(cumulative_cases)), cumulative_cases)\n",
    "\n",
    "# Predict cumulative cases using the fitted exponential function\n",
    "predicted_cases = exponential_function(range(len(cumulative_cases)), *popt)\n",
    "\n",
    "# Get the total number of real cases on 2020-03-20\n",
    "real_cases_2020_03_20 = italy_data.loc[italy_data['date'] == '2020-03-20', 'new_cases'].sum()\n",
    "\n",
    "# Calculate the difference between the predicted and real cases on 2020-03-20\n",
    "difference = predicted_cases[-1] - real_cases_2020_03_20\n",
    "\n",
    "print(\"Difference between the exponential curve and the total number of real cases on 2020-03-20:\", difference)\n"
   ]
  },
  {
   "cell_type": "code",
   "execution_count": 62,
   "id": "033947de",
   "metadata": {},
   "outputs": [
    {
     "name": "stdout",
     "output_type": "stream",
     "text": [
      "Country with the 3rd highest death rate: Montserrat\n"
     ]
    }
   ],
   "source": [
    "\n",
    "\n",
    "# Calculate death rate (deaths per million inhabitants)\n",
    "df3['death_rate'] = df3['new_deaths'] / df3['population'] * 1_000_000\n",
    "\n",
    "# Sort the countries based on death rate\n",
    "sorted_countries = df3.groupby('location')['death_rate'].max().sort_values(ascending=False)\n",
    "\n",
    "# Get the country with the third-highest death rate\n",
    "third_highest_death_rate_country = sorted_countries.index[0]\n",
    "\n",
    "print(\"Country with the 3rd highest death rate:\", third_highest_death_rate_country)\n"
   ]
  },
  {
   "cell_type": "code",
   "execution_count": 63,
   "id": "948c28bf",
   "metadata": {},
   "outputs": [],
   "source": [
    "# Calculate death rate (deaths per million inhabitants)\n",
    "df3['death_rate'] = df3['new_deaths'] / df3['population'] * 1_000_000\n",
    "\n",
    "# Sort the countries based on death rate\n",
    "sorted_countries = df3.groupby('location')['death_rate'].max().sort_values(ascending=False)\n"
   ]
  },
  {
   "cell_type": "code",
   "execution_count": 64,
   "id": "e4556984",
   "metadata": {},
   "outputs": [
    {
     "name": "stdout",
     "output_type": "stream",
     "text": [
      "location\n",
      "Montserrat                          200.040008\n",
      "San Marino                          176.792975\n",
      "Sint Maarten (Dutch part)            93.279231\n",
      "Isle of Man                          58.801392\n",
      "Andorra                              51.769883\n",
      "                                       ...    \n",
      "Eritrea                               0.000000\n",
      "Saint Kitts and Nevis                 0.000000\n",
      "Saint Lucia                           0.000000\n",
      "Saint Vincent and the Grenadines      0.000000\n",
      "International                              NaN\n",
      "Name: death_rate, Length: 212, dtype: float64\n"
     ]
    }
   ],
   "source": [
    "print(sorted_countries)"
   ]
  },
  {
   "cell_type": "code",
   "execution_count": 66,
   "id": "b0df0dda",
   "metadata": {},
   "outputs": [
    {
     "name": "stdout",
     "output_type": "stream",
     "text": [
      "F1 Score: nan\n"
     ]
    },
    {
     "name": "stderr",
     "output_type": "stream",
     "text": [
      "C:\\Users\\wwaswa\\AppData\\Local\\Temp\\ipykernel_2984\\3383528004.py:18: RuntimeWarning: invalid value encountered in scalar divide\n",
      "  precision = tp / (tp + fp)\n",
      "C:\\Users\\wwaswa\\AppData\\Local\\Temp\\ipykernel_2984\\3383528004.py:19: RuntimeWarning: invalid value encountered in scalar divide\n",
      "  recall = tp / (tp + fn)\n"
     ]
    }
   ],
   "source": [
    "\n",
    "# Filter out countries with missing information\n",
    "covid_data = df3.dropna(subset=['population', 'aged_65_older_percent', 'new_deaths'])\n",
    "\n",
    "# Calculate death rate (deaths per million inhabitants)\n",
    "df3['death_rate'] = df3['new_deaths'] / covid_data['population'] * 1_000_000\n",
    "\n",
    "# Classify countries based on the statement\n",
    "df3['predicted'] = (covid_data['aged_65_older_percent'] > 20) & (covid_data['death_rate'] > 50)\n",
    "\n",
    "# Ground truth (actual death rates)\n",
    "ground_truth = df3['death_rate'] > 50\n",
    "\n",
    "# Calculate precision, recall, and F1 score\n",
    "tp = ((df3['predicted'] == True) & (ground_truth == True)).sum()\n",
    "fp = ((df3['predicted'] == True) & (ground_truth == False)).sum()\n",
    "fn = ((df3['predicted'] == False) & (ground_truth == True)).sum()\n",
    "\n",
    "precision = tp / (tp + fp)\n",
    "recall = tp / (tp + fn)\n",
    "f1_score = 2 * (precision * recall) / (precision + recall)\n",
    "\n",
    "print(\"F1 Score:\", f1_score)\n"
   ]
  },
  {
   "cell_type": "code",
   "execution_count": 68,
   "id": "e7a4be18",
   "metadata": {},
   "outputs": [
    {
     "name": "stdout",
     "output_type": "stream",
     "text": [
      "Conditional Probability (P(A|B)):  0.8565304372677908\n"
     ]
    }
   ],
   "source": [
    "\n",
    "\n",
    "# Filter countries with GDP over $10,000\n",
    "gdp_over_10000 = df3[df3['gdp_per_capita'] > 10000]\n",
    "\n",
    "# Filter countries with at least 5 hospital beds per 1000 inhabitants\n",
    "hospital_beds_over_5 = df3[df3['hospital_beds_per_thousand'] >= 5]\n",
    "\n",
    "# Count the number of countries that satisfy both conditions\n",
    "countries_both_conditions = gdp_over_10000.merge(hospital_beds_over_5, how='inner')\n",
    "\n",
    "# Count the number of countries that satisfy at least the condition B\n",
    "countries_condition_b = hospital_beds_over_5\n",
    "\n",
    "# Calculate the conditional probability\n",
    "conditional_probability = len(countries_both_conditions) / len(countries_condition_b)\n",
    "print(\"Conditional Probability (P(A|B)): \", conditional_probability)\n"
   ]
  },
  {
   "cell_type": "code",
   "execution_count": null,
   "id": "56a3ec01",
   "metadata": {},
   "outputs": [],
   "source": []
  }
 ],
 "metadata": {
  "kernelspec": {
   "display_name": "Python 3 (ipykernel)",
   "language": "python",
   "name": "python3"
  },
  "language_info": {
   "codemirror_mode": {
    "name": "ipython",
    "version": 3
   },
   "file_extension": ".py",
   "mimetype": "text/x-python",
   "name": "python",
   "nbconvert_exporter": "python",
   "pygments_lexer": "ipython3",
   "version": "3.11.5"
  }
 },
 "nbformat": 4,
 "nbformat_minor": 5
}
