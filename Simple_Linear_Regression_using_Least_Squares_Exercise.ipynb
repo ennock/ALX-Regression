{
 "cells": [
  {
   "cell_type": "markdown",
   "id": "cd88ea27",
   "metadata": {},
   "source": [
    "<div align=\"center\" style=\" font-size: 80%; text-align: center; margin: 0 auto\">\n",
    "<img src=\"https://raw.githubusercontent.com/Explore-AI/Pictures/master/Python-Notebook-Banners/Exercise.png\"  style=\"display: block; margin-left: auto; margin-right: auto;\";/>\n",
    "</div>"
   ]
  },
  {
   "cell_type": "markdown",
   "id": "f662d169",
   "metadata": {},
   "source": [
    "# Exercise: Simple linear regression using least squares \n",
    "© ExploreAI Academy"
   ]
  },
  {
   "cell_type": "markdown",
   "id": "26af890c",
   "metadata": {},
   "source": [
    "In this exercise, we create linear regression models, evaluate the fit of the model and make predictions.\n"
   ]
  },
  {
   "cell_type": "markdown",
   "id": "2d230d14",
   "metadata": {
    "tags": []
   },
   "source": [
    "## Learning objectives\n",
    "\n",
    "By the end of this train we will:\n",
    "- Know how to develop linear regression models in Python and make predictions.\n",
    "- Know how to assess the performance of a linear regression model."
   ]
  },
  {
   "cell_type": "markdown",
   "id": "de45a481",
   "metadata": {},
   "source": [
    "## Exercises"
   ]
  },
  {
   "cell_type": "markdown",
   "id": "5a0b7683",
   "metadata": {
    "tags": []
   },
   "source": [
    "### Exercise 1\n",
    "\n",
    "An environmental research group is examining how the average temperature of a day (in degrees Celsius) affects the energy output of solar panels (kWh produced). Your task is to visualise this relationship to determine if linear regression would be a suitable model.\n",
    "\n",
    "1. Create two NumPy arrays named `average_temperature` and `solar_output` with the provided data.\n",
    "2. Use `matplotlib` to create a scatter plot of average temperature (X-axis) against solar panel output (Y-axis).\n",
    "3. Title your plot as \"`Average temperature vs. Solar panel output`\" and label the axes appropriately.\n",
    "4. Based on the visualisation, assess whether linear regression is a suitable model for the data.\n"
   ]
  },
  {
   "cell_type": "code",
   "execution_count": 3,
   "id": "25d34352",
   "metadata": {},
   "outputs": [],
   "source": [
    "import pandas as pd\n",
    "import matplotlib.pyplot as plt\n",
    "import numpy as np"
   ]
  },
  {
   "cell_type": "code",
   "execution_count": 2,
   "id": "c2ee76ec",
   "metadata": {},
   "outputs": [
    {
     "data": {
      "image/png": "[encoded data removed]",
      "text/plain": [
       "<Figure size 640x480 with 1 Axes>"
      ]
     },
     "metadata": {},
     "output_type": "display_data"
    }
   ],
   "source": [
    "average_temperature = [5, 8, 11, 13, 18, 24, 24, 28, 32, 36]\n",
    "solar_output = [2.2, 1.8, 2.5, 3.0, 4.5, 5.3, 5.8, 4.2, 2.5, 4.0]\n",
    "\n",
    "# insert code here\n",
    "\n",
    "\n",
    "\n",
    "plt.scatter(average_temperature, solar_output)\n",
    "plt.xlabel(\"average_temperature \")\n",
    "plt.ylabel(\"solar_output\")\n",
    "plt.title(\"Average temperature vs. Solar panel output\")\n",
    "plt.show()"
   ]
  },
  {
   "cell_type": "markdown",
   "id": "dc9b7dc6",
   "metadata": {},
   "source": [
    "### Exercise 2\n",
    "\n",
    "The agricultural department is interested in predicting crop yield based on annual rainfall. You are tasked with creating a predictive model using simple linear regression.\n",
    "\n",
    "1. Convert the provided lists into `NumPy` arrays named `annual_rainfall` and `agricultural_yield`.\n",
    "2. Fit a simple linear regression model using sklearn's `LinearRegression`.\n",
    "3. Predict the agricultural yield for a year with `1150` mm of annual rainfall.\n",
    "4. Print the predicted yield."
   ]
  },
  {
   "cell_type": "code",
   "execution_count": 10,
   "id": "ae48fab0",
   "metadata": {},
   "outputs": [],
   "source": [
    "annual_rainfall_list = [800, 1200, 1000, 1500, 1100, 1300, 900, 1400, 950, 1250]\n",
    "agricultural_yield_list = [3.2, 4.8, 4.0, 5.5, 4.2, 5.0, 3.5, 5.3, 3.8, 4.9]\n",
    "\n",
    "# insert code here\n",
    "annual_rainfall =np.array(annual_rainfall_list).reshape(-1,1)\n",
    "agricultural_yield = np.array(agricultural_yield_list)"
   ]
  },
  {
   "cell_type": "code",
   "execution_count": 11,
   "id": "be434f54",
   "metadata": {},
   "outputs": [
    {
     "data": {
      "text/html": [
       "<style>#sk-container-id-1 {color: black;}#sk-container-id-1 pre{padding: 0;}#sk-container-id-1 div.sk-toggleable {background-color: white;}#sk-container-id-1 label.sk-toggleable__label {cursor: pointer;display: block;width: 100%;margin-bottom: 0;padding: 0.3em;box-sizing: border-box;text-align: center;}#sk-container-id-1 label.sk-toggleable__label-arrow:before {content: \"▸\";float: left;margin-right: 0.25em;color: #696969;}#sk-container-id-1 label.sk-toggleable__label-arrow:hover:before {color: black;}#sk-container-id-1 div.sk-estimator:hover label.sk-toggleable__label-arrow:before {color: black;}#sk-container-id-1 div.sk-toggleable__content {max-height: 0;max-width: 0;overflow: hidden;text-align: left;background-color: #f0f8ff;}#sk-container-id-1 div.sk-toggleable__content pre {margin: 0.2em;color: black;border-radius: 0.25em;background-color: #f0f8ff;}#sk-container-id-1 input.sk-toggleable__control:checked~div.sk-toggleable__content {max-height: 200px;max-width: 100%;overflow: auto;}#sk-container-id-1 input.sk-toggleable__control:checked~label.sk-toggleable__label-arrow:before {content: \"▾\";}#sk-container-id-1 div.sk-estimator input.sk-toggleable__control:checked~label.sk-toggleable__label {background-color: #d4ebff;}#sk-container-id-1 div.sk-label input.sk-toggleable__control:checked~label.sk-toggleable__label {background-color: #d4ebff;}#sk-container-id-1 input.sk-hidden--visually {border: 0;clip: rect(1px 1px 1px 1px);clip: rect(1px, 1px, 1px, 1px);height: 1px;margin: -1px;overflow: hidden;padding: 0;position: absolute;width: 1px;}#sk-container-id-1 div.sk-estimator {font-family: monospace;background-color: #f0f8ff;border: 1px dotted black;border-radius: 0.25em;box-sizing: border-box;margin-bottom: 0.5em;}#sk-container-id-1 div.sk-estimator:hover {background-color: #d4ebff;}#sk-container-id-1 div.sk-parallel-item::after {content: \"\";width: 100%;border-bottom: 1px solid gray;flex-grow: 1;}#sk-container-id-1 div.sk-label:hover label.sk-toggleable__label {background-color: #d4ebff;}#sk-container-id-1 div.sk-serial::before {content: \"\";position: absolute;border-left: 1px solid gray;box-sizing: border-box;top: 0;bottom: 0;left: 50%;z-index: 0;}#sk-container-id-1 div.sk-serial {display: flex;flex-direction: column;align-items: center;background-color: white;padding-right: 0.2em;padding-left: 0.2em;position: relative;}#sk-container-id-1 div.sk-item {position: relative;z-index: 1;}#sk-container-id-1 div.sk-parallel {display: flex;align-items: stretch;justify-content: center;background-color: white;position: relative;}#sk-container-id-1 div.sk-item::before, #sk-container-id-1 div.sk-parallel-item::before {content: \"\";position: absolute;border-left: 1px solid gray;box-sizing: border-box;top: 0;bottom: 0;left: 50%;z-index: -1;}#sk-container-id-1 div.sk-parallel-item {display: flex;flex-direction: column;z-index: 1;position: relative;background-color: white;}#sk-container-id-1 div.sk-parallel-item:first-child::after {align-self: flex-end;width: 50%;}#sk-container-id-1 div.sk-parallel-item:last-child::after {align-self: flex-start;width: 50%;}#sk-container-id-1 div.sk-parallel-item:only-child::after {width: 0;}#sk-container-id-1 div.sk-dashed-wrapped {border: 1px dashed gray;margin: 0 0.4em 0.5em 0.4em;box-sizing: border-box;padding-bottom: 0.4em;background-color: white;}#sk-container-id-1 div.sk-label label {font-family: monospace;font-weight: bold;display: inline-block;line-height: 1.2em;}#sk-container-id-1 div.sk-label-container {text-align: center;}#sk-container-id-1 div.sk-container {/* jupyter's `normalize.less` sets `[hidden] { display: none; }` but bootstrap.min.css set `[hidden] { display: none !important; }` so we also need the `!important` here to be able to override the default hidden behavior on the sphinx rendered scikit-learn.org. See: https://github.com/scikit-learn/scikit-learn/issues/21755 */display: inline-block !important;position: relative;}#sk-container-id-1 div.sk-text-repr-fallback {display: none;}</style><div id=\"sk-container-id-1\" class=\"sk-top-container\"><div class=\"sk-text-repr-fallback\"><pre>LinearRegression()</pre><b>In a Jupyter environment, please rerun this cell to show the HTML representation or trust the notebook. <br />On GitHub, the HTML representation is unable to render, please try loading this page with nbviewer.org.</b></div><div class=\"sk-container\" hidden><div class=\"sk-item\"><div class=\"sk-estimator sk-toggleable\"><input class=\"sk-toggleable__control sk-hidden--visually\" id=\"sk-estimator-id-1\" type=\"checkbox\" checked><label for=\"sk-estimator-id-1\" class=\"sk-toggleable__label sk-toggleable__label-arrow\">LinearRegression</label><div class=\"sk-toggleable__content\"><pre>LinearRegression()</pre></div></div></div></div></div>"
      ],
      "text/plain": [
       "LinearRegression()"
      ]
     },
     "execution_count": 11,
     "metadata": {},
     "output_type": "execute_result"
    }
   ],
   "source": [
    "from sklearn.linear_model import LinearRegression\n",
    "lr = LinearRegression()\n",
    "lr.fit(annual_rainfall,agricultural_yield)"
   ]
  },
  {
   "cell_type": "code",
   "execution_count": 14,
   "id": "08f2a840",
   "metadata": {},
   "outputs": [
    {
     "data": {
      "text/plain": [
       "array([4.45426439])"
      ]
     },
     "execution_count": 14,
     "metadata": {},
     "output_type": "execute_result"
    }
   ],
   "source": [
    "lr.predict([[1150]])"
   ]
  },
  {
   "cell_type": "markdown",
   "id": "ff4acf23",
   "metadata": {},
   "source": [
    "### Exercise 3\n",
    "\n",
    "A city's environmental protection agency has collected data on daily traffic volume and air pollution levels. Your task is to evaluate the performance of a linear regression model that predicts air pollution levels from traffic volume.\n",
    "\n",
    "1. Use the provided data to fit a simple linear regression model with `traffic_volume` as the independent variable and `pollution_levels` as the dependent variable.\n",
    "2. Calculate the Mean Squared Error (MSE) and R-squared value of your model.\n",
    "3. Print the MSE and R-squared value, interpreting what they indicate about your model's performance.\n"
   ]
  },
  {
   "cell_type": "code",
   "execution_count": 18,
   "id": "c977600b",
   "metadata": {},
   "outputs": [],
   "source": [
    "import pandas as pd\n",
    "import numpy as np"
   ]
  },
  {
   "cell_type": "code",
   "execution_count": 21,
   "id": "b5fe9e83",
   "metadata": {},
   "outputs": [
    {
     "data": {
      "text/html": [
       "<style>#sk-container-id-2 {color: black;}#sk-container-id-2 pre{padding: 0;}#sk-container-id-2 div.sk-toggleable {background-color: white;}#sk-container-id-2 label.sk-toggleable__label {cursor: pointer;display: block;width: 100%;margin-bottom: 0;padding: 0.3em;box-sizing: border-box;text-align: center;}#sk-container-id-2 label.sk-toggleable__label-arrow:before {content: \"▸\";float: left;margin-right: 0.25em;color: #696969;}#sk-container-id-2 label.sk-toggleable__label-arrow:hover:before {color: black;}#sk-container-id-2 div.sk-estimator:hover label.sk-toggleable__label-arrow:before {color: black;}#sk-container-id-2 div.sk-toggleable__content {max-height: 0;max-width: 0;overflow: hidden;text-align: left;background-color: #f0f8ff;}#sk-container-id-2 div.sk-toggleable__content pre {margin: 0.2em;color: black;border-radius: 0.25em;background-color: #f0f8ff;}#sk-container-id-2 input.sk-toggleable__control:checked~div.sk-toggleable__content {max-height: 200px;max-width: 100%;overflow: auto;}#sk-container-id-2 input.sk-toggleable__control:checked~label.sk-toggleable__label-arrow:before {content: \"▾\";}#sk-container-id-2 div.sk-estimator input.sk-toggleable__control:checked~label.sk-toggleable__label {background-color: #d4ebff;}#sk-container-id-2 div.sk-label input.sk-toggleable__control:checked~label.sk-toggleable__label {background-color: #d4ebff;}#sk-container-id-2 input.sk-hidden--visually {border: 0;clip: rect(1px 1px 1px 1px);clip: rect(1px, 1px, 1px, 1px);height: 1px;margin: -1px;overflow: hidden;padding: 0;position: absolute;width: 1px;}#sk-container-id-2 div.sk-estimator {font-family: monospace;background-color: #f0f8ff;border: 1px dotted black;border-radius: 0.25em;box-sizing: border-box;margin-bottom: 0.5em;}#sk-container-id-2 div.sk-estimator:hover {background-color: #d4ebff;}#sk-container-id-2 div.sk-parallel-item::after {content: \"\";width: 100%;border-bottom: 1px solid gray;flex-grow: 1;}#sk-container-id-2 div.sk-label:hover label.sk-toggleable__label {background-color: #d4ebff;}#sk-container-id-2 div.sk-serial::before {content: \"\";position: absolute;border-left: 1px solid gray;box-sizing: border-box;top: 0;bottom: 0;left: 50%;z-index: 0;}#sk-container-id-2 div.sk-serial {display: flex;flex-direction: column;align-items: center;background-color: white;padding-right: 0.2em;padding-left: 0.2em;position: relative;}#sk-container-id-2 div.sk-item {position: relative;z-index: 1;}#sk-container-id-2 div.sk-parallel {display: flex;align-items: stretch;justify-content: center;background-color: white;position: relative;}#sk-container-id-2 div.sk-item::before, #sk-container-id-2 div.sk-parallel-item::before {content: \"\";position: absolute;border-left: 1px solid gray;box-sizing: border-box;top: 0;bottom: 0;left: 50%;z-index: -1;}#sk-container-id-2 div.sk-parallel-item {display: flex;flex-direction: column;z-index: 1;position: relative;background-color: white;}#sk-container-id-2 div.sk-parallel-item:first-child::after {align-self: flex-end;width: 50%;}#sk-container-id-2 div.sk-parallel-item:last-child::after {align-self: flex-start;width: 50%;}#sk-container-id-2 div.sk-parallel-item:only-child::after {width: 0;}#sk-container-id-2 div.sk-dashed-wrapped {border: 1px dashed gray;margin: 0 0.4em 0.5em 0.4em;box-sizing: border-box;padding-bottom: 0.4em;background-color: white;}#sk-container-id-2 div.sk-label label {font-family: monospace;font-weight: bold;display: inline-block;line-height: 1.2em;}#sk-container-id-2 div.sk-label-container {text-align: center;}#sk-container-id-2 div.sk-container {/* jupyter's `normalize.less` sets `[hidden] { display: none; }` but bootstrap.min.css set `[hidden] { display: none !important; }` so we also need the `!important` here to be able to override the default hidden behavior on the sphinx rendered scikit-learn.org. See: https://github.com/scikit-learn/scikit-learn/issues/21755 */display: inline-block !important;position: relative;}#sk-container-id-2 div.sk-text-repr-fallback {display: none;}</style><div id=\"sk-container-id-2\" class=\"sk-top-container\"><div class=\"sk-text-repr-fallback\"><pre>LinearRegression()</pre><b>In a Jupyter environment, please rerun this cell to show the HTML representation or trust the notebook. <br />On GitHub, the HTML representation is unable to render, please try loading this page with nbviewer.org.</b></div><div class=\"sk-container\" hidden><div class=\"sk-item\"><div class=\"sk-estimator sk-toggleable\"><input class=\"sk-toggleable__control sk-hidden--visually\" id=\"sk-estimator-id-2\" type=\"checkbox\" checked><label for=\"sk-estimator-id-2\" class=\"sk-toggleable__label sk-toggleable__label-arrow\">LinearRegression</label><div class=\"sk-toggleable__content\"><pre>LinearRegression()</pre></div></div></div></div></div>"
      ],
      "text/plain": [
       "LinearRegression()"
      ]
     },
     "execution_count": 21,
     "metadata": {},
     "output_type": "execute_result"
    }
   ],
   "source": [
    "import numpy as np\n",
    "from sklearn.linear_model import LinearRegression\n",
    "\n",
    "# Given data\n",
    "traffic_volume_list = [1500, 2500, 2000, 3000, 3500, 1800, 4000, 2200, 2800, 3200]\n",
    "pollution_levels_list = [35, 50, 45, 60, 65, 38, 70, 48, 55, 62]\n",
    "\n",
    "# Convert lists to NumPy arrays\n",
    "traffic_volume = np.array(traffic_volume_list).reshape(-1, 1)  # Reshape to 2D array\n",
    "pollution_levels = np.array(pollution_levels_list)\n",
    "\n",
    "# Create and fit the model\n",
    "lr = LinearRegression()\n",
    "lr.fit(traffic_volume, pollution_levels)\n"
   ]
  },
  {
   "cell_type": "code",
   "execution_count": 22,
   "id": "d0553aa7",
   "metadata": {},
   "outputs": [
    {
     "name": "stdout",
     "output_type": "stream",
     "text": [
      "Mean Squared Error (MSE): 2.5061741424802126\n",
      "R-squared value: 0.9793492572307168\n"
     ]
    }
   ],
   "source": [
    "from sklearn.metrics import mean_squared_error, r2_score\n",
    "\n",
    "# Predict pollution levels\n",
    "predicted_pollution_levels = lr.predict(traffic_volume)\n",
    "\n",
    "# Calculate Mean Squared Error (MSE)\n",
    "mse = mean_squared_error(pollution_levels, predicted_pollution_levels)\n",
    "print(\"Mean Squared Error (MSE):\", mse)\n",
    "\n",
    "# Calculate R-squared value\n",
    "r_squared = r2_score(pollution_levels, predicted_pollution_levels)\n",
    "print(\"R-squared value:\", r_squared)\n"
   ]
  },
  {
   "cell_type": "markdown",
   "id": "555dea0d",
   "metadata": {},
   "source": [
    "## Solutions"
   ]
  },
  {
   "cell_type": "markdown",
   "id": "9ff8f391",
   "metadata": {},
   "source": [
    "### Exercise 1\n",
    "\n",
    "- The average temperature and solar panel output data are converted into `NumPy` arrays for easy manipulation and plotting.\n",
    "- `plt.scatter` creates a scatter plot with average temperature on the X-axis and solar panel output on the Y-axis.\n",
    "- `plt.xlabel` and `plt.ylabel` label the axes, while `plt.title` adds a title to the plot.\n",
    "- `plt.show()` displays the plot. The scatter plot is a crucial initial step in regression analysis as it helps identify the nature of the relationship between variables."
   ]
  },
  {
   "cell_type": "code",
   "execution_count": null,
   "id": "ad52ad95",
   "metadata": {},
   "outputs": [],
   "source": [
    "import numpy as np\n",
    "import matplotlib.pyplot as plt\n",
    "\n",
    "# Data arrays\n",
    "average_temperature  = np.array([5, 8, 11, 13, 18, 24, 24, 28, 32, 36])\n",
    "solar_output = np.array([2.2, 1.8, 2.5, 3.0, 4.5, 5.3, 5.8, 4.2, 2.5, 4.0])\n",
    "\n",
    "# Creating the scatter plot\n",
    "plt.scatter(average_temperature , solar_output)\n",
    "plt.xlabel('Average temperature')\n",
    "plt.ylabel('Solar Panel Output (kWh)')\n",
    "plt.title('Average temperature vs. Solar panel output')\n",
    "plt.show()\n"
   ]
  },
  {
   "cell_type": "markdown",
   "id": "1fbdb88a",
   "metadata": {},
   "source": [
    "Looking at the scatter plot, it seems that there is not a linear relationship between the average temperature of a day and the energy produced by solar panels. This could be because other factors that we haven't accounted for are having an impact on the energy produced, such as clouds. This means that a linear regression model will not be a good fit for our data."
   ]
  },
  {
   "cell_type": "markdown",
   "id": "a10363b6",
   "metadata": {},
   "source": [
    "### Exercise 2\n",
    "\n",
    "- The code converts the lists of `annual_rainfall` and `agricultural_yield` into NumPy arrays for compatibility with sklearn's `LinearRegression` model. The `reshape(-1, 1)` is applied to annual rainfall to convert it from a 1D array to a 2D array because `sklearn` expects `X` (features) to be a 2D array.\n",
    "- A `LinearRegression` model is instantiated and fitted to the data with `.fit()`, modeling the relationship between rainfall and yield.\n",
    "- `.predict()` is used to estimate the yield for a specific value of rainfall (`1150` mm), demonstrating how the model can be used to make predictions based on new input data.\n",
    "- The predicted yield is printed, providing actionable insights based on the model."
   ]
  },
  {
   "cell_type": "code",
   "execution_count": null,
   "id": "09386d51",
   "metadata": {},
   "outputs": [],
   "source": [
    "import numpy as np\n",
    "from sklearn.linear_model import LinearRegression\n",
    "\n",
    "# Data arrays\n",
    "annual_rainfall = np.array([800, 1200, 1000, 1500, 1100, 1300, 900, 1400, 950, 1250]).reshape(-1, 1)\n",
    "agricultural_yield = np.array([3.2, 4.8, 4.0, 5.5, 4.2, 5.0, 3.5, 5.3, 3.8, 4.9])\n",
    "\n",
    "# Fitting the model\n",
    "model = LinearRegression()\n",
    "model.fit(annual_rainfall, agricultural_yield)\n",
    "\n",
    "# Predicting for 1150 mm of annual rainfall\n",
    "predicted_yield = model.predict(np.array([[1150]]))\n",
    "print(f'Predicted agricultural yield for 1150 mm of annual rainfall: {predicted_yield[0]:.2f} tons per hectare')\n"
   ]
  },
  {
   "cell_type": "markdown",
   "id": "e2c10a09",
   "metadata": {},
   "source": [
    "### Exercise 3\n",
    "\n",
    "- The code first fits a linear regression model to the traffic volume and pollution level data (similar to the previous exercise).\n",
    "- After fitting the model, it uses the model to predict pollution levels based on the observed traffic volumes.\n",
    "- It calculates the Mean Squared Error (MSE) and R-squared value using sklearn's `mean_squared_error `and `r2_score` functions. These metrics are essential for evaluating the performance of the regression model, helping to understand its accuracy and predictive power.\n",
    "    - MSE provides a measure of the average squared difference between observed and predicted values, indicating the model's accuracy. A lower MSE indicates a better fit.\n",
    "    - The R-squared value measures the proportion of the variance in the dependent variable that is predictable from the independent variable. It ranges from 0 to 1, with higher values indicating a better fit.\n"
   ]
  },
  {
   "cell_type": "code",
   "execution_count": null,
   "id": "7adddfaf",
   "metadata": {},
   "outputs": [],
   "source": [
    "import numpy as np\n",
    "from sklearn.linear_model import LinearRegression\n",
    "from sklearn.metrics import mean_squared_error, r2_score\n",
    "\n",
    "# Data arrays\n",
    "traffic_volume = np.array([1500, 2500, 2000, 3000, 3500, 1800, 4000, 2200, 2800, 3200]).reshape(-1, 1)\n",
    "pollution_levels = np.array([35, 50, 45, 60, 65, 38, 70, 48, 55, 62])\n",
    "\n",
    "# Fitting the model\n",
    "model = LinearRegression()\n",
    "model.fit(traffic_volume, pollution_levels)\n",
    "\n",
    "# Making predictions\n",
    "predictions = model.predict(traffic_volume)\n",
    "\n",
    "# Calculating MSE and R-squared\n",
    "mse = mean_squared_error(pollution_levels, predictions)\n",
    "r_squared = r2_score(pollution_levels, predictions)\n",
    "\n",
    "print(f'Mean Squared Error: {mse:.2f}')\n",
    "print(f'R-squared: {r_squared:.2f}')"
   ]
  },
  {
   "cell_type": "markdown",
   "id": "26fd094b-0fee-46f1-a4b8-73766813c42b",
   "metadata": {
    "tags": []
   },
   "source": [
    "#  \n",
    "\n",
    "<div align=\"center\" style=\" font-size: 80%; text-align: center; margin: 0 auto\">\n",
    "<img src=\"https://raw.githubusercontent.com/Explore-AI/Pictures/master/ExploreAI_logos/EAI_Blue_Dark.png\"  style=\"width:200px\";/>\n",
    "</div>"
   ]
  }
 ],
 "metadata": {
  "kernelspec": {
   "display_name": "Python 3 (ipykernel)",
   "language": "python",
   "name": "python3"
  },
  "language_info": {
   "codemirror_mode": {
    "name": "ipython",
    "version": 3
   },
   "file_extension": ".py",
   "mimetype": "text/x-python",
   "name": "python",
   "nbconvert_exporter": "python",
   "pygments_lexer": "ipython3",
   "version": "3.11.5"
  }
 },
 "nbformat": 4,
 "nbformat_minor": 5
}
